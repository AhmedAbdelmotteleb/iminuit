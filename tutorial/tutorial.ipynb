{
 "metadata": {
  "name": "tutorial"
 },
 "nbformat": 3,
 "nbformat_minor": 0,
 "worksheets": [
  {
   "cells": [
    {
     "cell_type": "code",
     "collapsed": false,
     "input": [
      "from RTMinuit import Minuit, describe, Struct"
     ],
     "language": "python",
     "metadata": {},
     "outputs": [],
     "prompt_number": 1
    },
    {
     "cell_type": "heading",
     "level": 2,
     "metadata": {},
     "source": [
      "Really Quick Start"
     ]
    },
    {
     "cell_type": "raw",
     "metadata": {},
     "source": [
      "Let go through a quick course about how to minimize things. If you use PyMinuit before you will find that RTMinuit is very similar to PyMinuit. One notable different is that there is no printMode (we use print_level)."
     ]
    },
    {
     "cell_type": "code",
     "collapsed": false,
     "input": [
      "#Let's try to minimize simple (x-1)**2 + (y-2)**2 + (z-3)**2 - 1\n",
      "#we know easily that the answer has to be\n",
      "#x=1, y=2, z=3\n",
      "def f(x,y,z):\n",
      "    return (x-1.)**2 + (y-2.)**2 + (z-3.)**2 -1.\n",
      "describe(f) #RTMinuit magically extract function signature"
     ],
     "language": "python",
     "metadata": {},
     "outputs": [
      {
       "output_type": "pyout",
       "prompt_number": 2,
       "text": [
        "('x', 'y', 'z')"
       ]
      }
     ],
     "prompt_number": 2
    },
    {
     "cell_type": "code",
     "collapsed": false,
     "input": [
      "m=Minuit(f, x=2, error_x=0.2, limit_x=(-10.,10.), y=2, fix_y=True)\n",
      "#The initial value/error are optional but it's nice to do it\n",
      "#and here is how to use it\n",
      "#x=2 set intial value of x to 2\n",
      "#error_x=0.2 set the initial stepsize\n",
      "#limit_x = (-1,1) set the range for x\n",
      "#y=2, fix_y=True fix y value to 2\n",
      "#We do not put any constain on z\n",
      "#Minuit will warn you about missig initial error/step\n",
      "#but most of the time you will be fine"
     ],
     "language": "python",
     "metadata": {},
     "outputs": [
      {
       "output_type": "stream",
       "stream": "stderr",
       "text": [
        "-c:1: UserWarning: Parameter z does not have initial value. Assume 0.\n",
        "-c:1: UserWarning: Parameter z is floating but does not have initial step size. Assume 1.\n"
       ]
      }
     ],
     "prompt_number": 3
    },
    {
     "cell_type": "code",
     "collapsed": false,
     "input": [
      "#Boom done!!!!\n",
      "#you can use m.migrad(print_level=0) to make it quiet\n",
      "m.migrad();"
     ],
     "language": "python",
     "metadata": {},
     "outputs": [
      {
       "html": [
        "<hr>"
       ],
       "output_type": "display_data"
      },
      {
       "html": [
        "\n",
        "        <table>\n",
        "            <tr>\n",
        "                <td>FCN = -0.999997878641</td>\n",
        "                <td>NFCN = 27</td>\n",
        "                <td>NCALLS = 27</td>\n",
        "            </tr>\n",
        "            <tr>\n",
        "                <td>EDM = 2.12138829729e-06</td>\n",
        "                <td>GOAL EDM = 1e-05</td>\n",
        "                <td>UP = 1.0</td>\n",
        "            </tr>\n",
        "        </table>\n",
        "        \n",
        "        <table>\n",
        "            <tr>\n",
        "                <td align=\"center\">Valid</td>\n",
        "                <td align=\"center\">Valid Param</td>\n",
        "                <td align=\"center\">Accurate Covar</td>\n",
        "                <td align=\"center\">PosDef</td>\n",
        "                <td align=\"center\">Made PosDef</td>\n",
        "            </tr>\n",
        "            <tr>\n",
        "                <td align=\"center\" style=\"background-color:#92CCA6\">True</td>\n",
        "                <td align=\"center\" style=\"background-color:#92CCA6\">True</td>\n",
        "                <td align=\"center\" style=\"background-color:#92CCA6\">True</td>\n",
        "                <td align=\"center\" style=\"background-color:#92CCA6\">True</td>\n",
        "                <td align=\"center\" style=\"background-color:#92CCA6\">False</td>\n",
        "            </tr>\n",
        "            <tr>\n",
        "                <td align=\"center\">Hesse Fail</td>\n",
        "                <td align=\"center\">HasCov</td>\n",
        "                <td align=\"center\">Above EDM</td>\n",
        "                <td align=\"center\"></td>\n",
        "                <td align=\"center\">Reach calllim</td>\n",
        "            </tr>\n",
        "            <tr>\n",
        "                <td align=\"center\" style=\"background-color:#92CCA6\">False</td>\n",
        "                <td align=\"center\" style=\"background-color:#92CCA6\">True</td>\n",
        "                <td align=\"center\" style=\"background-color:#92CCA6\">False</td>\n",
        "                <td align=\"center\"></td>\n",
        "                <td align=\"center\" style=\"background-color:#92CCA6\">False</td>\n",
        "            </tr>\n",
        "        </table>\n",
        "        "
       ],
       "output_type": "display_data"
      },
      {
       "html": [
        "\n",
        "        <table>\n",
        "            <tr>\n",
        "                <td></td>\n",
        "                <td>Name</td>\n",
        "                <td>Value</td>\n",
        "                <td>Parab Error</td>\n",
        "                <td>Minos Error-</td>\n",
        "                <td>Minos Error+</td>\n",
        "                <td>Limit-</td>\n",
        "                <td>Limit+</td>\n",
        "                <td></td>\n",
        "            </tr>\n",
        "        \n",
        "            <tr>\n",
        "                <td>1</td>\n",
        "                <td>x</td>\n",
        "                <td>1.001434e+00</td>\n",
        "                <td>9.983245e-01</td>\n",
        "                <td>0.000000e+00</td>\n",
        "                <td>0.000000e+00</td>\n",
        "                <td>-10.0</td>\n",
        "                <td>10.0</td>\n",
        "                <td></td>\n",
        "            </tr>\n",
        "            \n",
        "            <tr>\n",
        "                <td>2</td>\n",
        "                <td>y</td>\n",
        "                <td>2.000000e+00</td>\n",
        "                <td>1.000000e+00</td>\n",
        "                <td>0.000000e+00</td>\n",
        "                <td>0.000000e+00</td>\n",
        "                <td></td>\n",
        "                <td></td>\n",
        "                <td>FIXED</td>\n",
        "            </tr>\n",
        "            \n",
        "            <tr>\n",
        "                <td>3</td>\n",
        "                <td>z</td>\n",
        "                <td>3.000257e+00</td>\n",
        "                <td>1.000000e+00</td>\n",
        "                <td>0.000000e+00</td>\n",
        "                <td>0.000000e+00</td>\n",
        "                <td></td>\n",
        "                <td></td>\n",
        "                <td></td>\n",
        "            </tr>\n",
        "            \n",
        "            </table>\n",
        "        "
       ],
       "output_type": "display_data"
      },
      {
       "html": [
        "<hr>"
       ],
       "output_type": "display_data"
      }
     ],
     "prompt_number": 4
    },
    {
     "cell_type": "code",
     "collapsed": false,
     "input": [
      "#and this is how you get the the value\n",
      "print 'parameters', m.parameters\n",
      "print 'args', m.args\n",
      "print 'value', m.values"
     ],
     "language": "python",
     "metadata": {},
     "outputs": [
      {
       "output_type": "stream",
       "stream": "stdout",
       "text": [
        "parameters ('x', 'y', 'z')\n",
        "args (1.0014335673777666, 2.0, 3.000257377817296)\n",
        "value {'y': 2.0, 'x': 1.0014335673777666, 'z': 3.000257377817296}\n"
       ]
      }
     ],
     "prompt_number": 5
    },
    {
     "cell_type": "code",
     "collapsed": false,
     "input": [
      "#and the error\n",
      "print 'error', m.errors"
     ],
     "language": "python",
     "metadata": {},
     "outputs": [
      {
       "output_type": "stream",
       "stream": "stdout",
       "text": [
        "error {'y': 1.0, 'x': 0.9983245147237394, 'z': 0.9999999999593369}\n"
       ]
      }
     ],
     "prompt_number": 6
    },
    {
     "cell_type": "code",
     "collapsed": false,
     "input": [
      "#and function value at the minimum\n",
      "print 'fval', m.fval"
     ],
     "language": "python",
     "metadata": {},
     "outputs": [
      {
       "output_type": "stream",
       "stream": "stdout",
       "text": [
        "fval -0.999997878641\n"
       ]
      }
     ],
     "prompt_number": 7
    },
    {
     "cell_type": "code",
     "collapsed": false,
     "input": [
      "#covariance, correlation matrix\n",
      "#remember y is fixed\n",
      "print 'covariance', m.covariance\n",
      "print 'matrix()', m.matrix() #covariance\n",
      "print 'matrix(correlation=True)', m.matrix(correlation=True) #correlation\n",
      "m.print_matrix() #correlation"
     ],
     "language": "python",
     "metadata": {},
     "outputs": [
      {
       "output_type": "stream",
       "stream": "stdout",
       "text": [
        "covariance {('z', 'z'): 0.9999999999186737, ('x', 'z'): 0.0, ('x', 'x'): 1.0000145034455314, ('z', 'x'): 0.0}\n",
        "matrix() ((1.0000145034455314, 0.0), (0.0, 0.9999999999186737))\n",
        "matrix(correlation=True) ((1.0, 0.0), (0.0, 1.0))\n"
       ]
      },
      {
       "html": [
        "\n",
        "            <table>\n",
        "                <tr>\n",
        "                    <td></td>\n",
        "        \n",
        "            <td>\n",
        "            <span style=\"-webkit-writing-mode:vertical-rl;-moz-writing-mode: vertical-rl;writing-mode: vertical-rl;\">\n",
        "            x\n",
        "            </span>\n",
        "            </td>\n",
        "            \n",
        "            <td>\n",
        "            <span style=\"-webkit-writing-mode:vertical-rl;-moz-writing-mode: vertical-rl;writing-mode: vertical-rl;\">\n",
        "            z\n",
        "            </span>\n",
        "            </td>\n",
        "            \n",
        "                </tr>\n",
        "                \n",
        "            <tr>\n",
        "                <td>x</td>\n",
        "            \n",
        "                <td style=\"background-color:rgb(255,117,117)\">\n",
        "                1.00\n",
        "                </td>\n",
        "                \n",
        "                <td style=\"background-color:rgb(163,254,186)\">\n",
        "                0.00\n",
        "                </td>\n",
        "                \n",
        "            </tr>\n",
        "            \n",
        "            <tr>\n",
        "                <td>z</td>\n",
        "            \n",
        "                <td style=\"background-color:rgb(163,254,186)\">\n",
        "                0.00\n",
        "                </td>\n",
        "                \n",
        "                <td style=\"background-color:rgb(255,117,117)\">\n",
        "                1.00\n",
        "                </td>\n",
        "                \n",
        "            </tr>\n",
        "            </table>"
       ],
       "output_type": "display_data"
      }
     ],
     "prompt_number": 8
    },
    {
     "cell_type": "code",
     "collapsed": false,
     "input": [
      "#get mimization status\n",
      "print m.get_fmin()\n",
      "print m.get_fmin().is_valid"
     ],
     "language": "python",
     "metadata": {},
     "outputs": [
      {
       "output_type": "stream",
       "stream": "stdout",
       "text": [
        "{'hesse_failed': False, 'has_reached_call_limit': False, 'has_accurate_covar': True, 'has_posdef_covar': True, 'up': 1.0, 'edm': 2.121388297285022e-06, 'is_valid': True, 'is_above_max_edm': False, 'has_covariance': True, 'has_made_posdef_covar': False, 'has_valid_parameters': True, 'fval': -0.9999978786412326, 'nfcn': 27}\n",
        "True\n"
       ]
      }
     ],
     "prompt_number": 9
    },
    {
     "cell_type": "code",
     "collapsed": false,
     "input": [
      "#you can run hesse() to get (re)calculate hessian matrix\n",
      "#What you care is value and Parab(olic) error.\n",
      "m.hesse()"
     ],
     "language": "python",
     "metadata": {},
     "outputs": [
      {
       "html": [
        "\n",
        "        <table>\n",
        "            <tr>\n",
        "                <td></td>\n",
        "                <td>Name</td>\n",
        "                <td>Value</td>\n",
        "                <td>Parab Error</td>\n",
        "                <td>Minos Error-</td>\n",
        "                <td>Minos Error+</td>\n",
        "                <td>Limit-</td>\n",
        "                <td>Limit+</td>\n",
        "                <td></td>\n",
        "            </tr>\n",
        "        \n",
        "            <tr>\n",
        "                <td>1</td>\n",
        "                <td>x</td>\n",
        "                <td>1.001434e+00</td>\n",
        "                <td>9.983245e-01</td>\n",
        "                <td>0.000000e+00</td>\n",
        "                <td>0.000000e+00</td>\n",
        "                <td>-10.0</td>\n",
        "                <td>10.0</td>\n",
        "                <td></td>\n",
        "            </tr>\n",
        "            \n",
        "            <tr>\n",
        "                <td>2</td>\n",
        "                <td>y</td>\n",
        "                <td>2.000000e+00</td>\n",
        "                <td>1.000000e+00</td>\n",
        "                <td>0.000000e+00</td>\n",
        "                <td>0.000000e+00</td>\n",
        "                <td></td>\n",
        "                <td></td>\n",
        "                <td>FIXED</td>\n",
        "            </tr>\n",
        "            \n",
        "            <tr>\n",
        "                <td>3</td>\n",
        "                <td>z</td>\n",
        "                <td>3.000257e+00</td>\n",
        "                <td>1.000000e+00</td>\n",
        "                <td>0.000000e+00</td>\n",
        "                <td>0.000000e+00</td>\n",
        "                <td></td>\n",
        "                <td></td>\n",
        "                <td></td>\n",
        "            </tr>\n",
        "            \n",
        "            </table>\n",
        "        "
       ],
       "output_type": "display_data"
      },
      {
       "html": [
        "\n",
        "            <table>\n",
        "                <tr>\n",
        "                    <td></td>\n",
        "        \n",
        "            <td>\n",
        "            <span style=\"-webkit-writing-mode:vertical-rl;-moz-writing-mode: vertical-rl;writing-mode: vertical-rl;\">\n",
        "            x\n",
        "            </span>\n",
        "            </td>\n",
        "            \n",
        "            <td>\n",
        "            <span style=\"-webkit-writing-mode:vertical-rl;-moz-writing-mode: vertical-rl;writing-mode: vertical-rl;\">\n",
        "            z\n",
        "            </span>\n",
        "            </td>\n",
        "            \n",
        "                </tr>\n",
        "                \n",
        "            <tr>\n",
        "                <td>x</td>\n",
        "            \n",
        "                <td style=\"background-color:rgb(255,117,117)\">\n",
        "                1.00\n",
        "                </td>\n",
        "                \n",
        "                <td style=\"background-color:rgb(163,254,186)\">\n",
        "                0.00\n",
        "                </td>\n",
        "                \n",
        "            </tr>\n",
        "            \n",
        "            <tr>\n",
        "                <td>z</td>\n",
        "            \n",
        "                <td style=\"background-color:rgb(163,254,186)\">\n",
        "                0.00\n",
        "                </td>\n",
        "                \n",
        "                <td style=\"background-color:rgb(255,117,117)\">\n",
        "                1.00\n",
        "                </td>\n",
        "                \n",
        "            </tr>\n",
        "            </table>"
       ],
       "output_type": "display_data"
      },
      {
       "output_type": "pyout",
       "prompt_number": 10,
       "text": [
        "[{'is_const': False, 'name': 'x', 'has_limits': True, 'value': 1.0014335673777666, 'number': 0L, 'has_lower_limit': True, 'upper_limit': 10.0, 'lower_limit': -10.0, 'has_upper_limit': True, 'error': 0.9983245155946703, 'is_fixed': False},\n",
        " {'is_const': False, 'name': 'y', 'has_limits': False, 'value': 2.0, 'number': 1L, 'has_lower_limit': False, 'upper_limit': 0.0, 'lower_limit': 0.0, 'has_upper_limit': False, 'error': 1.0, 'is_fixed': True},\n",
        " {'is_const': False, 'name': 'z', 'has_limits': False, 'value': 3.000257377817296, 'number': 2L, 'has_lower_limit': False, 'upper_limit': 0.0, 'lower_limit': 0.0, 'has_upper_limit': False, 'error': 1.0000000000004703, 'is_fixed': False}]"
       ]
      }
     ],
     "prompt_number": 10
    },
    {
     "cell_type": "code",
     "collapsed": false,
     "input": [
      "#to get minos error you do\n",
      "m.minos()\n",
      "print m.get_merrors()['x']\n",
      "print m.get_merrors()['x'].lower\n",
      "print m.get_merrors()['x'].upper"
     ],
     "language": "python",
     "metadata": {},
     "outputs": [
      {
       "html": [
        "\n",
        "        <span>Minos status for x: <span style=\"background-color:#92CCA6\">VALID</span></span>\n",
        "        <table>\n",
        "            <tr>\n",
        "                <td>Error</td>\n",
        "                <td>-1.00143910716</td>\n",
        "                <td>0.998567145405</td>\n",
        "            </tr>\n",
        "            <tr>\n",
        "                <td>Valid</td>\n",
        "                <td style=\"background-color:#92CCA6\">True</td>\n",
        "                <td style=\"background-color:#92CCA6\">True</td>\n",
        "            </tr>\n",
        "            <tr>\n",
        "                <td>At Limit</td>\n",
        "                <td style=\"background-color:#92CCA6\">False</td>\n",
        "                <td style=\"background-color:#92CCA6\">False</td>\n",
        "            </tr>\n",
        "            <tr>\n",
        "                <td>Max FCN</td>\n",
        "                <td style=\"background-color:#92CCA6\">False</td>\n",
        "                <td style=\"background-color:#92CCA6\">False</td>\n",
        "            </tr>\n",
        "            <tr>\n",
        "                <td>New Min</td>\n",
        "                <td style=\"background-color:#92CCA6\">False</td>\n",
        "                <td style=\"background-color:#92CCA6\">False</td>\n",
        "            </tr>\n",
        "        </table>\n",
        "        "
       ],
       "output_type": "display_data"
      },
      {
       "html": [
        "\n",
        "        <span>Minos status for z: <span style=\"background-color:#92CCA6\">VALID</span></span>\n",
        "        <table>\n",
        "            <tr>\n",
        "                <td>Error</td>\n",
        "                <td>-1.00025850558</td>\n",
        "                <td>0.999743748271</td>\n",
        "            </tr>\n",
        "            <tr>\n",
        "                <td>Valid</td>\n",
        "                <td style=\"background-color:#92CCA6\">True</td>\n",
        "                <td style=\"background-color:#92CCA6\">True</td>\n",
        "            </tr>\n",
        "            <tr>\n",
        "                <td>At Limit</td>\n",
        "                <td style=\"background-color:#92CCA6\">False</td>\n",
        "                <td style=\"background-color:#92CCA6\">False</td>\n",
        "            </tr>\n",
        "            <tr>\n",
        "                <td>Max FCN</td>\n",
        "                <td style=\"background-color:#92CCA6\">False</td>\n",
        "                <td style=\"background-color:#92CCA6\">False</td>\n",
        "            </tr>\n",
        "            <tr>\n",
        "                <td>New Min</td>\n",
        "                <td style=\"background-color:#92CCA6\">False</td>\n",
        "                <td style=\"background-color:#92CCA6\">False</td>\n",
        "            </tr>\n",
        "        </table>\n",
        "        "
       ],
       "output_type": "display_data"
      },
      {
       "output_type": "stream",
       "stream": "stdout",
       "text": [
        "{'lower_new_min': False, 'upper': 0.9985671454054993, 'lower': -1.001439107156829, 'at_lower_limit': False, 'min': 1.0014335673777666, 'at_lower_max_fcn': False, 'is_valid': True, 'upper_new_min': False, 'at_upper_limit': False, 'lower_valid': True, 'upper_valid': True, 'at_upper_max_fcn': False, 'nfcn': 16L}\n",
        "-1.00143910716\n",
        "0.998567145405\n"
       ]
      }
     ],
     "prompt_number": 11
    },
    {
     "cell_type": "heading",
     "level": 1,
     "metadata": {},
     "source": [
      "Alternative Ways to define function"
     ]
    },
    {
     "cell_type": "heading",
     "level": 4,
     "metadata": {},
     "source": [
      "Cython"
     ]
    },
    {
     "cell_type": "code",
     "collapsed": false,
     "input": [
      "#sometimes we want speeeeeeed\n",
      "%load_ext cythonmagic"
     ],
     "language": "python",
     "metadata": {},
     "outputs": [],
     "prompt_number": 12
    },
    {
     "cell_type": "code",
     "collapsed": false,
     "input": [
      "%%cython\n",
      "cimport cython\n",
      "\n",
      "@cython.binding(True)#you need this otherwise RTMinuit can't extract signature\n",
      "def cython_f(double x,double y,double z):\n",
      "    return (x-1.)**2 + (y-2.)**2 + (z-3.)**2 -1."
     ],
     "language": "python",
     "metadata": {},
     "outputs": [],
     "prompt_number": 13
    },
    {
     "cell_type": "code",
     "collapsed": false,
     "input": [
      "#you can always see what RTMinuit will see\n",
      "print describe(cython_f)"
     ],
     "language": "python",
     "metadata": {},
     "outputs": [
      {
       "output_type": "stream",
       "stream": "stdout",
       "text": [
        "('x', 'y', 'z')\n"
       ]
      }
     ],
     "prompt_number": 14
    },
    {
     "cell_type": "code",
     "collapsed": false,
     "input": [
      "m = Minuit(cython_f)\n",
      "m.migrad()\n",
      "print m.values"
     ],
     "language": "python",
     "metadata": {},
     "outputs": [
      {
       "output_type": "stream",
       "stream": "stderr",
       "text": [
        "-c:1: UserWarning: Parameter x does not have initial value. Assume 0.\n",
        "-c:1: UserWarning: Parameter x is floating but does not have initial step size. Assume 1.\n",
        "-c:1: UserWarning: Parameter y does not have initial value. Assume 0.\n",
        "-c:1: UserWarning: Parameter y is floating but does not have initial step size. Assume 1.\n"
       ]
      },
      {
       "html": [
        "<hr>"
       ],
       "output_type": "display_data"
      },
      {
       "html": [
        "\n",
        "        <table>\n",
        "            <tr>\n",
        "                <td>FCN = -1.0</td>\n",
        "                <td>NFCN = 36</td>\n",
        "                <td>NCALLS = 36</td>\n",
        "            </tr>\n",
        "            <tr>\n",
        "                <td>EDM = 8.24353485149e-23</td>\n",
        "                <td>GOAL EDM = 1e-05</td>\n",
        "                <td>UP = 1.0</td>\n",
        "            </tr>\n",
        "        </table>\n",
        "        \n",
        "        <table>\n",
        "            <tr>\n",
        "                <td align=\"center\">Valid</td>\n",
        "                <td align=\"center\">Valid Param</td>\n",
        "                <td align=\"center\">Accurate Covar</td>\n",
        "                <td align=\"center\">PosDef</td>\n",
        "                <td align=\"center\">Made PosDef</td>\n",
        "            </tr>\n",
        "            <tr>\n",
        "                <td align=\"center\" style=\"background-color:#92CCA6\">True</td>\n",
        "                <td align=\"center\" style=\"background-color:#92CCA6\">True</td>\n",
        "                <td align=\"center\" style=\"background-color:#92CCA6\">True</td>\n",
        "                <td align=\"center\" style=\"background-color:#92CCA6\">True</td>\n",
        "                <td align=\"center\" style=\"background-color:#92CCA6\">False</td>\n",
        "            </tr>\n",
        "            <tr>\n",
        "                <td align=\"center\">Hesse Fail</td>\n",
        "                <td align=\"center\">HasCov</td>\n",
        "                <td align=\"center\">Above EDM</td>\n",
        "                <td align=\"center\"></td>\n",
        "                <td align=\"center\">Reach calllim</td>\n",
        "            </tr>\n",
        "            <tr>\n",
        "                <td align=\"center\" style=\"background-color:#92CCA6\">False</td>\n",
        "                <td align=\"center\" style=\"background-color:#92CCA6\">True</td>\n",
        "                <td align=\"center\" style=\"background-color:#92CCA6\">False</td>\n",
        "                <td align=\"center\"></td>\n",
        "                <td align=\"center\" style=\"background-color:#92CCA6\">False</td>\n",
        "            </tr>\n",
        "        </table>\n",
        "        "
       ],
       "output_type": "display_data"
      },
      {
       "html": [
        "\n",
        "        <table>\n",
        "            <tr>\n",
        "                <td></td>\n",
        "                <td>Name</td>\n",
        "                <td>Value</td>\n",
        "                <td>Parab Error</td>\n",
        "                <td>Minos Error-</td>\n",
        "                <td>Minos Error+</td>\n",
        "                <td>Limit-</td>\n",
        "                <td>Limit+</td>\n",
        "                <td></td>\n",
        "            </tr>\n",
        "        \n",
        "            <tr>\n",
        "                <td>1</td>\n",
        "                <td>x</td>\n",
        "                <td>1.000000e+00</td>\n",
        "                <td>1.000000e+00</td>\n",
        "                <td>0.000000e+00</td>\n",
        "                <td>0.000000e+00</td>\n",
        "                <td></td>\n",
        "                <td></td>\n",
        "                <td></td>\n",
        "            </tr>\n",
        "            \n",
        "            <tr>\n",
        "                <td>2</td>\n",
        "                <td>y</td>\n",
        "                <td>2.000000e+00</td>\n",
        "                <td>1.000000e+00</td>\n",
        "                <td>0.000000e+00</td>\n",
        "                <td>0.000000e+00</td>\n",
        "                <td></td>\n",
        "                <td></td>\n",
        "                <td></td>\n",
        "            </tr>\n",
        "            \n",
        "            <tr>\n",
        "                <td>3</td>\n",
        "                <td>z</td>\n",
        "                <td>3.000000e+00</td>\n",
        "                <td>1.000000e+00</td>\n",
        "                <td>0.000000e+00</td>\n",
        "                <td>0.000000e+00</td>\n",
        "                <td></td>\n",
        "                <td></td>\n",
        "                <td></td>\n",
        "            </tr>\n",
        "            \n",
        "            </table>\n",
        "        "
       ],
       "output_type": "display_data"
      },
      {
       "html": [
        "<hr>"
       ],
       "output_type": "display_data"
      },
      {
       "output_type": "stream",
       "stream": "stdout",
       "text": [
        "{'y': 2.0000000000047877, 'x': 1.000000000002637, 'z': 3.000000000007182}\n"
       ]
      }
     ],
     "prompt_number": 16
    },
    {
     "cell_type": "heading",
     "level": 4,
     "metadata": {},
     "source": [
      "Callable object ie: __call__"
     ]
    },
    {
     "cell_type": "code",
     "collapsed": false,
     "input": [
      "x = [1,2,3,4,5]\n",
      "y = [2,4,6,8,10]# y=2x\n",
      "class StraightLineChi2:\n",
      "    def __init__(self,x,y):\n",
      "        self.x = x\n",
      "        self.y = y\n",
      "    def __call__(self,m,c): #lets try to find slope and intercept\n",
      "        chi2 = sum((y - m*x+c)**2 for x,y in zip(self.x,self.y))\n",
      "        return chi2"
     ],
     "language": "python",
     "metadata": {},
     "outputs": [],
     "prompt_number": 17
    },
    {
     "cell_type": "code",
     "collapsed": false,
     "input": [
      "chi2 = StraightLineChi2(x,y)\n",
      "describe(chi2)"
     ],
     "language": "python",
     "metadata": {},
     "outputs": [
      {
       "output_type": "pyout",
       "prompt_number": 18,
       "text": [
        "('m', 'c')"
       ]
      }
     ],
     "prompt_number": 18
    },
    {
     "cell_type": "code",
     "collapsed": false,
     "input": [
      "m = Minuit(chi2)\n",
      "m.migrad()\n",
      "print m.values"
     ],
     "language": "python",
     "metadata": {},
     "outputs": [
      {
       "output_type": "stream",
       "stream": "stderr",
       "text": [
        "-c:1: UserWarning: Parameter m does not have initial value. Assume 0.\n",
        "-c:1: UserWarning: Parameter m is floating but does not have initial step size. Assume 1.\n",
        "-c:1: UserWarning: Parameter c does not have initial value. Assume 0.\n",
        "-c:1: UserWarning: Parameter c is floating but does not have initial step size. Assume 1.\n"
       ]
      },
      {
       "html": [
        "<hr>"
       ],
       "output_type": "display_data"
      },
      {
       "html": [
        "\n",
        "        <table>\n",
        "            <tr>\n",
        "                <td>FCN = 6.31477238173e-26</td>\n",
        "                <td>NFCN = 32</td>\n",
        "                <td>NCALLS = 32</td>\n",
        "            </tr>\n",
        "            <tr>\n",
        "                <td>EDM = 6.32720690373e-26</td>\n",
        "                <td>GOAL EDM = 1e-05</td>\n",
        "                <td>UP = 1.0</td>\n",
        "            </tr>\n",
        "        </table>\n",
        "        \n",
        "        <table>\n",
        "            <tr>\n",
        "                <td align=\"center\">Valid</td>\n",
        "                <td align=\"center\">Valid Param</td>\n",
        "                <td align=\"center\">Accurate Covar</td>\n",
        "                <td align=\"center\">PosDef</td>\n",
        "                <td align=\"center\">Made PosDef</td>\n",
        "            </tr>\n",
        "            <tr>\n",
        "                <td align=\"center\" style=\"background-color:#92CCA6\">True</td>\n",
        "                <td align=\"center\" style=\"background-color:#92CCA6\">True</td>\n",
        "                <td align=\"center\" style=\"background-color:#92CCA6\">True</td>\n",
        "                <td align=\"center\" style=\"background-color:#92CCA6\">True</td>\n",
        "                <td align=\"center\" style=\"background-color:#92CCA6\">False</td>\n",
        "            </tr>\n",
        "            <tr>\n",
        "                <td align=\"center\">Hesse Fail</td>\n",
        "                <td align=\"center\">HasCov</td>\n",
        "                <td align=\"center\">Above EDM</td>\n",
        "                <td align=\"center\"></td>\n",
        "                <td align=\"center\">Reach calllim</td>\n",
        "            </tr>\n",
        "            <tr>\n",
        "                <td align=\"center\" style=\"background-color:#92CCA6\">False</td>\n",
        "                <td align=\"center\" style=\"background-color:#92CCA6\">True</td>\n",
        "                <td align=\"center\" style=\"background-color:#92CCA6\">False</td>\n",
        "                <td align=\"center\"></td>\n",
        "                <td align=\"center\" style=\"background-color:#92CCA6\">False</td>\n",
        "            </tr>\n",
        "        </table>\n",
        "        "
       ],
       "output_type": "display_data"
      },
      {
       "html": [
        "\n",
        "        <table>\n",
        "            <tr>\n",
        "                <td></td>\n",
        "                <td>Name</td>\n",
        "                <td>Value</td>\n",
        "                <td>Parab Error</td>\n",
        "                <td>Minos Error-</td>\n",
        "                <td>Minos Error+</td>\n",
        "                <td>Limit-</td>\n",
        "                <td>Limit+</td>\n",
        "                <td></td>\n",
        "            </tr>\n",
        "        \n",
        "            <tr>\n",
        "                <td>1</td>\n",
        "                <td>m</td>\n",
        "                <td>2.000000e+00</td>\n",
        "                <td>3.162278e-01</td>\n",
        "                <td>0.000000e+00</td>\n",
        "                <td>0.000000e+00</td>\n",
        "                <td></td>\n",
        "                <td></td>\n",
        "                <td></td>\n",
        "            </tr>\n",
        "            \n",
        "            <tr>\n",
        "                <td>2</td>\n",
        "                <td>c</td>\n",
        "                <td>-4.884981e-14</td>\n",
        "                <td>1.048809e+00</td>\n",
        "                <td>0.000000e+00</td>\n",
        "                <td>0.000000e+00</td>\n",
        "                <td></td>\n",
        "                <td></td>\n",
        "                <td></td>\n",
        "            </tr>\n",
        "            \n",
        "            </table>\n",
        "        "
       ],
       "output_type": "display_data"
      },
      {
       "html": [
        "<hr>"
       ],
       "output_type": "display_data"
      },
      {
       "output_type": "stream",
       "stream": "stdout",
       "text": [
        "{'c': -4.884981308350689e-14, 'm': 2.00000000000002}\n"
       ]
      }
     ],
     "prompt_number": 20
    },
    {
     "cell_type": "heading",
     "level": 4,
     "metadata": {},
     "source": [
      "Faking a function signature"
     ]
    },
    {
     "cell_type": "code",
     "collapsed": false,
     "input": [
      "#this is very useful if you want to build a generic cost functor\n",
      "#this is actually how dist_fit is implemented\n",
      "x = [1,2,3,4,5]\n",
      "y = [2,4,6,8,10]# y=2x\n",
      "class Chi2Functor:\n",
      "    def __init__(self,f,x,y):\n",
      "        self.f = f\n",
      "        self.x = x\n",
      "        self.y = y\n",
      "        f_sig = describe(f)\n",
      "        #this is how you fake function \n",
      "        #signature dynamically\n",
      "        self.func_code = Struct(\n",
      "                                co_varnames = f_sig[1:], #dock off independent variable\n",
      "                                co_argcount = len(f_sig)-1\n",
      "                                )\n",
      "        self.func_defaults = None #this keeps np.vectorize happy\n",
      "    def __call__(self,*arg):\n",
      "        #notice that it accept variable length\n",
      "        #positional arguments\n",
      "        chi2 = sum((y-self.f(x,*arg))**2 for x,y in zip(self.x,self.y))\n",
      "        return chi2"
     ],
     "language": "python",
     "metadata": {},
     "outputs": [],
     "prompt_number": 21
    },
    {
     "cell_type": "code",
     "collapsed": false,
     "input": [
      "def linear(x,m,c):\n",
      "    return m*x+c\n",
      "\n",
      "def parabola(x,a,b,c):\n",
      "    return a*x**2 + b*x + c "
     ],
     "language": "python",
     "metadata": {},
     "outputs": [],
     "prompt_number": 22
    },
    {
     "cell_type": "code",
     "collapsed": false,
     "input": [
      "linear_chi2 = Chi2Functor(linear,x,y)\n",
      "describe(linear_chi2)"
     ],
     "language": "python",
     "metadata": {},
     "outputs": [
      {
       "output_type": "pyout",
       "prompt_number": 23,
       "text": [
        "('m', 'c')"
       ]
      }
     ],
     "prompt_number": 23
    },
    {
     "cell_type": "code",
     "collapsed": false,
     "input": [
      "m = Minuit(linear_chi2, printMode=0)\n",
      "m.migrad();\n",
      "print m.values"
     ],
     "language": "python",
     "metadata": {},
     "outputs": [
      {
       "ename": "RuntimeError",
       "evalue": "Cannot understand keyword printMode. May be typo?",
       "output_type": "pyerr",
       "traceback": [
        "\u001b[0;31m---------------------------------------------------------------------------\u001b[0m\n\u001b[0;31mRuntimeError\u001b[0m                              Traceback (most recent call last)",
        "\u001b[0;32m<ipython-input-24-17beef20b048>\u001b[0m in \u001b[0;36m<module>\u001b[0;34m()\u001b[0m\n\u001b[0;32m----> 1\u001b[0;31m \u001b[0mm\u001b[0m \u001b[0;34m=\u001b[0m \u001b[0mMinuit\u001b[0m\u001b[0;34m(\u001b[0m\u001b[0mlinear_chi2\u001b[0m\u001b[0;34m,\u001b[0m \u001b[0mprintMode\u001b[0m\u001b[0;34m=\u001b[0m\u001b[0;36m0\u001b[0m\u001b[0;34m)\u001b[0m\u001b[0;34m\u001b[0m\u001b[0m\n\u001b[0m\u001b[1;32m      2\u001b[0m \u001b[0mm\u001b[0m\u001b[0;34m.\u001b[0m\u001b[0mmigrad\u001b[0m\u001b[0;34m(\u001b[0m\u001b[0;34m)\u001b[0m\u001b[0;34m;\u001b[0m\u001b[0;34m\u001b[0m\u001b[0m\n\u001b[1;32m      3\u001b[0m \u001b[0;32mprint\u001b[0m \u001b[0mm\u001b[0m\u001b[0;34m.\u001b[0m\u001b[0mvalues\u001b[0m\u001b[0;34m\u001b[0m\u001b[0m\n",
        "\u001b[0;32m/Library/Frameworks/Python.framework/Versions/2.7/lib/python2.7/site-packages/RTMinuit/_libRTMinuit.so\u001b[0m in \u001b[0;36mRTMinuit._libRTMinuit.Minuit.__init__ (RTMinuit/_libRTMinuit.cpp:2251)\u001b[0;34m()\u001b[0m\n",
        "\u001b[0;32m/Library/Frameworks/Python.framework/Versions/2.7/lib/python2.7/site-packages/RTMinuit/_libRTMinuit.so\u001b[0m in \u001b[0;36mRTMinuit._libRTMinuit.Minuit._check_extra_args (RTMinuit/_libRTMinuit.cpp:10726)\u001b[0;34m()\u001b[0m\n",
        "\u001b[0;31mRuntimeError\u001b[0m: Cannot understand keyword printMode. May be typo?"
       ]
      }
     ],
     "prompt_number": 24
    },
    {
     "cell_type": "code",
     "collapsed": false,
     "input": [
      "#now here is the beauty\n",
      "#you can use the same Chi2Functor now for parabola\n",
      "parab_chi2 = Chi2Functor(parabola,x,y)\n",
      "describe(parab_chi2)"
     ],
     "language": "python",
     "metadata": {},
     "outputs": [
      {
       "output_type": "pyout",
       "prompt_number": 25,
       "text": [
        "('a', 'b', 'c')"
       ]
      }
     ],
     "prompt_number": 25
    },
    {
     "cell_type": "code",
     "collapsed": false,
     "input": [
      "m = Minuit(parab_chi2,x,y, printMode=0)\n",
      "m.migrad()\n",
      "print m.values"
     ],
     "language": "python",
     "metadata": {},
     "outputs": [
      {
       "ename": "RuntimeError",
       "evalue": "Cannot understand keyword printMode. May be typo?",
       "output_type": "pyerr",
       "traceback": [
        "\u001b[0;31m---------------------------------------------------------------------------\u001b[0m\n\u001b[0;31mRuntimeError\u001b[0m                              Traceback (most recent call last)",
        "\u001b[0;32m<ipython-input-26-2a7415fcf4c5>\u001b[0m in \u001b[0;36m<module>\u001b[0;34m()\u001b[0m\n\u001b[0;32m----> 1\u001b[0;31m \u001b[0mm\u001b[0m \u001b[0;34m=\u001b[0m \u001b[0mMinuit\u001b[0m\u001b[0;34m(\u001b[0m\u001b[0mparab_chi2\u001b[0m\u001b[0;34m,\u001b[0m\u001b[0mx\u001b[0m\u001b[0;34m,\u001b[0m\u001b[0my\u001b[0m\u001b[0;34m,\u001b[0m \u001b[0mprintMode\u001b[0m\u001b[0;34m=\u001b[0m\u001b[0;36m0\u001b[0m\u001b[0;34m)\u001b[0m\u001b[0;34m\u001b[0m\u001b[0m\n\u001b[0m\u001b[1;32m      2\u001b[0m \u001b[0mm\u001b[0m\u001b[0;34m.\u001b[0m\u001b[0mmigrad\u001b[0m\u001b[0;34m(\u001b[0m\u001b[0;34m)\u001b[0m\u001b[0;34m\u001b[0m\u001b[0m\n\u001b[1;32m      3\u001b[0m \u001b[0;32mprint\u001b[0m \u001b[0mm\u001b[0m\u001b[0;34m.\u001b[0m\u001b[0mvalues\u001b[0m\u001b[0;34m\u001b[0m\u001b[0m\n",
        "\u001b[0;32m/Library/Frameworks/Python.framework/Versions/2.7/lib/python2.7/site-packages/RTMinuit/_libRTMinuit.so\u001b[0m in \u001b[0;36mRTMinuit._libRTMinuit.Minuit.__init__ (RTMinuit/_libRTMinuit.cpp:2251)\u001b[0;34m()\u001b[0m\n",
        "\u001b[0;32m/Library/Frameworks/Python.framework/Versions/2.7/lib/python2.7/site-packages/RTMinuit/_libRTMinuit.so\u001b[0m in \u001b[0;36mRTMinuit._libRTMinuit.Minuit._check_extra_args (RTMinuit/_libRTMinuit.cpp:10726)\u001b[0;34m()\u001b[0m\n",
        "\u001b[0;31mRuntimeError\u001b[0m: Cannot understand keyword printMode. May be typo?"
       ]
      }
     ],
     "prompt_number": 26
    },
    {
     "cell_type": "heading",
     "level": 4,
     "metadata": {},
     "source": [
      "Last Resort: Forcing function signature"
     ]
    },
    {
     "cell_type": "code",
     "collapsed": false,
     "input": [
      "%%cython\n",
      "#sometimes you get a function with absolutely no signature\n",
      "#We didn't put cython.binding(True) here \n",
      "def nosig_f(x,y):\n",
      "    return x**2+(y-4)**2"
     ],
     "language": "python",
     "metadata": {},
     "outputs": [],
     "prompt_number": 31
    },
    {
     "cell_type": "code",
     "collapsed": false,
     "input": [
      "#something from swig will give you a function with no\n",
      "#signature information\n",
      "try:\n",
      "    describe(nosig_f)#it raise error\n",
      "except:\n",
      "    print 'OH NOOOOOOOO!!!!!'"
     ],
     "language": "python",
     "metadata": {},
     "outputs": [
      {
       "output_type": "stream",
       "stream": "stdout",
       "text": [
        "OH NOOOOOOOO!!!!!\n"
       ]
      }
     ],
     "prompt_number": 32
    },
    {
     "cell_type": "code",
     "collapsed": false,
     "input": [
      "#Use forced_parameters\n",
      "m = Minuit(nosig_f, forced_parameters=('x','y'))"
     ],
     "language": "python",
     "metadata": {},
     "outputs": [
      {
       "output_type": "stream",
       "stream": "stderr",
       "text": [
        "-c:2: UserWarning: Parameter x does not have initial value. Assume 0.\n",
        "-c:2: UserWarning: Parameter x is floating but does not have initial step size. Assume 1.\n",
        "-c:2: UserWarning: Parameter y does not have initial value. Assume 0.\n",
        "-c:2: UserWarning: Parameter y is floating but does not have initial step size. Assume 1.\n"
       ]
      }
     ],
     "prompt_number": 33
    },
    {
     "cell_type": "code",
     "collapsed": false,
     "input": [
      "m.migrad()\n",
      "print m.values"
     ],
     "language": "python",
     "metadata": {},
     "outputs": [
      {
       "html": [
        "<hr>"
       ],
       "output_type": "display_data"
      },
      {
       "html": [
        "\n",
        "        <table>\n",
        "            <tr>\n",
        "                <td>FCN = 9.31236296332e-23</td>\n",
        "                <td>NFCN = 24</td>\n",
        "                <td>NCALLS = 24</td>\n",
        "            </tr>\n",
        "            <tr>\n",
        "                <td>EDM = 9.31236296802e-23</td>\n",
        "                <td>GOAL EDM = 1e-05</td>\n",
        "                <td>UP = 1.0</td>\n",
        "            </tr>\n",
        "        </table>\n",
        "        \n",
        "        <table>\n",
        "            <tr>\n",
        "                <td align=\"center\">Valid</td>\n",
        "                <td align=\"center\">Valid Param</td>\n",
        "                <td align=\"center\">Accurate Covar</td>\n",
        "                <td align=\"center\">PosDef</td>\n",
        "                <td align=\"center\">Made PosDef</td>\n",
        "            </tr>\n",
        "            <tr>\n",
        "                <td align=\"center\" style=\"background-color:#92CCA6\">True</td>\n",
        "                <td align=\"center\" style=\"background-color:#92CCA6\">True</td>\n",
        "                <td align=\"center\" style=\"background-color:#92CCA6\">True</td>\n",
        "                <td align=\"center\" style=\"background-color:#92CCA6\">True</td>\n",
        "                <td align=\"center\" style=\"background-color:#92CCA6\">False</td>\n",
        "            </tr>\n",
        "            <tr>\n",
        "                <td align=\"center\">Hesse Fail</td>\n",
        "                <td align=\"center\">HasCov</td>\n",
        "                <td align=\"center\">Above EDM</td>\n",
        "                <td align=\"center\"></td>\n",
        "                <td align=\"center\">Reach calllim</td>\n",
        "            </tr>\n",
        "            <tr>\n",
        "                <td align=\"center\" style=\"background-color:#92CCA6\">False</td>\n",
        "                <td align=\"center\" style=\"background-color:#92CCA6\">True</td>\n",
        "                <td align=\"center\" style=\"background-color:#92CCA6\">False</td>\n",
        "                <td align=\"center\"></td>\n",
        "                <td align=\"center\" style=\"background-color:#92CCA6\">False</td>\n",
        "            </tr>\n",
        "        </table>\n",
        "        "
       ],
       "output_type": "display_data"
      },
      {
       "html": [
        "\n",
        "        <table>\n",
        "            <tr>\n",
        "                <td></td>\n",
        "                <td>Name</td>\n",
        "                <td>Value</td>\n",
        "                <td>Parab Error</td>\n",
        "                <td>Minos Error-</td>\n",
        "                <td>Minos Error+</td>\n",
        "                <td>Limit-</td>\n",
        "                <td>Limit+</td>\n",
        "                <td></td>\n",
        "            </tr>\n",
        "        \n",
        "            <tr>\n",
        "                <td>1</td>\n",
        "                <td>x</td>\n",
        "                <td>0.000000e+00</td>\n",
        "                <td>1.000000e+00</td>\n",
        "                <td>0.000000e+00</td>\n",
        "                <td>0.000000e+00</td>\n",
        "                <td></td>\n",
        "                <td></td>\n",
        "                <td></td>\n",
        "            </tr>\n",
        "            \n",
        "            <tr>\n",
        "                <td>2</td>\n",
        "                <td>y</td>\n",
        "                <td>4.000000e+00</td>\n",
        "                <td>1.000000e+00</td>\n",
        "                <td>0.000000e+00</td>\n",
        "                <td>0.000000e+00</td>\n",
        "                <td></td>\n",
        "                <td></td>\n",
        "                <td></td>\n",
        "            </tr>\n",
        "            \n",
        "            </table>\n",
        "        "
       ],
       "output_type": "display_data"
      },
      {
       "html": [
        "<hr>"
       ],
       "output_type": "display_data"
      },
      {
       "output_type": "stream",
       "stream": "stdout",
       "text": [
        "{'y': 4.00000000000965, 'x': 0.0}\n"
       ]
      }
     ],
     "prompt_number": 34
    },
    {
     "cell_type": "heading",
     "level": 1,
     "metadata": {},
     "source": [
      "Console Environment"
     ]
    },
    {
     "cell_type": "code",
     "collapsed": false,
     "input": [
      "#this is just showing off console frontend (you can force it)\n",
      "from RTMinuit.ConsoleFrontend import ConsoleFrontend\n",
      "m = Minuit(f, frontend=ConsoleFrontend())"
     ],
     "language": "python",
     "metadata": {},
     "outputs": [
      {
       "output_type": "stream",
       "stream": "stderr",
       "text": [
        "-c:3: UserWarning: Parameter x does not have initial value. Assume 0.\n",
        "-c:3: UserWarning: Parameter x is floating but does not have initial step size. Assume 1.\n",
        "-c:3: UserWarning: Parameter y does not have initial value. Assume 0.\n",
        "-c:3: UserWarning: Parameter y is floating but does not have initial step size. Assume 1.\n",
        "-c:3: UserWarning: Parameter z does not have initial value. Assume 0.\n",
        "-c:3: UserWarning: Parameter z is floating but does not have initial step size. Assume 1.\n"
       ]
      }
     ],
     "prompt_number": 35
    },
    {
     "cell_type": "code",
     "collapsed": false,
     "input": [
      "m.migrad();"
     ],
     "language": "python",
     "metadata": {},
     "outputs": [
      {
       "output_type": "stream",
       "stream": "stdout",
       "text": [
        "**************************************************\n",
        "*                     MIGRAD                     *\n",
        "**************************************************\n",
        "\n",
        "**********************************************************************\n",
        "---------------------------------------------------------------------------------------\n",
        "fval = -1.0 | nfcn = 36 | ncalls = 36\n",
        "edm = 8.243534851490919e-23 (Goal: 1e-05) | up = 1.0\n",
        "---------------------------------------------------------------------------------------\n",
        "|          Valid |    Valid Param | Accurate Covar |         Posdef |    Made Posdef |\n",
        "---------------------------------------------------------------------------------------\n",
        "|           True |           True |           True |           True |          False |\n",
        "---------------------------------------------------------------------------------------\n",
        "|     Hesse Fail |        Has Cov |      Above EDM |                |  Reach calllim |\n",
        "---------------------------------------------------------------------------------------\n",
        "|          False |           True |          False |             '' |          False |\n",
        "---------------------------------------------------------------------------------------\n",
        "\n",
        "----------------------------------------------------------------------------------------------\n",
        "|      | Name  |  Value   | Para Err |   Err-   |   Err+   |  Limit-  |  Limit+  |          |\n",
        "----------------------------------------------------------------------------------------------\n",
        "|    0 |     x =  1       |  1       |          |          |          |          |          |\n",
        "|    1 |     y =  2       |  1       |          |          |          |          |          |\n",
        "|    2 |     z =  3       |  1       |          |          |          |          |          |\n",
        "----------------------------------------------------------------------------------------------\n",
        "\n",
        "**********************************************************************\n"
       ]
      }
     ],
     "prompt_number": 36
    },
    {
     "cell_type": "code",
     "collapsed": false,
     "input": [],
     "language": "python",
     "metadata": {},
     "outputs": []
    }
   ],
   "metadata": {}
  }
 ]
}