{
 "metadata": {
  "name": "tutorial"
 },
 "nbformat": 3,
 "nbformat_minor": 0,
 "worksheets": [
  {
   "cells": [
    {
     "cell_type": "code",
     "collapsed": false,
     "input": [
      "from RTMinuit import Minuit, describe"
     ],
     "language": "python",
     "metadata": {},
     "outputs": [],
     "prompt_number": 33
    },
    {
     "cell_type": "markdown",
     "metadata": {},
     "source": [
      "##Really Quick Start\n",
      "Let go through a quick course about how to minimize things. If you use PyMinuit before you will find that RTMinuit is very similar to PyMinuit. One notable different is that there is no printMode (we use print_level)."
     ]
    },
    {
     "cell_type": "raw",
     "metadata": {},
     "source": []
    },
    {
     "cell_type": "code",
     "collapsed": false,
     "input": [
      "#Let's try to minimize simple (x-1)**2 + (y-2)**2 + (z-3)**2 - 1\n",
      "#we know easily that the answer has to be\n",
      "#x=1, y=2, z=3\n",
      "def f(x,y,z):\n",
      "    return y**2*(x-1.)**2 + (y-2.)**2 + (z-3.)**2 -1.\n",
      "describe(f) #RTMinuit magically extract function signature"
     ],
     "language": "python",
     "metadata": {},
     "outputs": [
      {
       "output_type": "pyout",
       "prompt_number": 34,
       "text": [
        "('x', 'y', 'z')"
       ]
      }
     ],
     "prompt_number": 34
    },
    {
     "cell_type": "code",
     "collapsed": false,
     "input": [
      "m=Minuit(f, x=2, error_x=0.2, limit_x=(-10.,10.), y=10000., fix_y=True, print_level=1)\n",
      "#The initial value/error are optional but it's nice to do it\n",
      "#and here is how to use it\n",
      "#x=2 set intial value of x to 2\n",
      "#error_x=0.2 set the initial stepsize\n",
      "#limit_x = (-1,1) set the range for x\n",
      "#y=2, fix_y=True fix y value to 2\n",
      "#We do not put any constain on z\n",
      "#Minuit will warn you about missig initial error/step\n",
      "#but most of the time you will be fine"
     ],
     "language": "python",
     "metadata": {},
     "outputs": [
      {
       "output_type": "stream",
       "stream": "stderr",
       "text": [
        "-c:1: RTMinuitInitialParamWarning: Parameter z does not have initial value. Assume 0.\n",
        "-c:1: RTMinuitInitialParamWarning: Parameter z is floating but does not have initial step size. Assume 1.\n"
       ]
      }
     ],
     "prompt_number": 35
    },
    {
     "cell_type": "code",
     "collapsed": false,
     "input": [
      "#Boom done!!!!\n",
      "#you can use m.migrad(print_level=0) to make it quiet\n",
      "m.migrad();"
     ],
     "language": "python",
     "metadata": {},
     "outputs": [
      {
       "html": [
        "<hr>"
       ],
       "output_type": "display_data"
      },
      {
       "html": [
        "\n",
        "        <table>\n",
        "            <tr>\n",
        "                <td>FCN = 99960003.0</td>\n",
        "                <td>NFCN = 43</td>\n",
        "                <td>NCALLS = 43</td>\n",
        "            </tr>\n",
        "            <tr>\n",
        "                <td>EDM = 1.43533469776e-10</td>\n",
        "                <td>GOAL EDM = 1e-05</td>\n",
        "                <td>UP = 1.0</td>\n",
        "            </tr>\n",
        "        </table>\n",
        "        \n",
        "        <table>\n",
        "            <tr>\n",
        "                <td align=\"center\">Valid</td>\n",
        "                <td align=\"center\">Valid Param</td>\n",
        "                <td align=\"center\">Accurate Covar</td>\n",
        "                <td align=\"center\">PosDef</td>\n",
        "                <td align=\"center\">Made PosDef</td>\n",
        "            </tr>\n",
        "            <tr>\n",
        "                <td align=\"center\" style=\"background-color:#92CCA6\">True</td>\n",
        "                <td align=\"center\" style=\"background-color:#92CCA6\">True</td>\n",
        "                <td align=\"center\" style=\"background-color:#92CCA6\">True</td>\n",
        "                <td align=\"center\" style=\"background-color:#92CCA6\">True</td>\n",
        "                <td align=\"center\" style=\"background-color:#92CCA6\">False</td>\n",
        "            </tr>\n",
        "            <tr>\n",
        "                <td align=\"center\">Hesse Fail</td>\n",
        "                <td align=\"center\">HasCov</td>\n",
        "                <td align=\"center\">Above EDM</td>\n",
        "                <td align=\"center\"></td>\n",
        "                <td align=\"center\">Reach calllim</td>\n",
        "            </tr>\n",
        "            <tr>\n",
        "                <td align=\"center\" style=\"background-color:#92CCA6\">False</td>\n",
        "                <td align=\"center\" style=\"background-color:#92CCA6\">True</td>\n",
        "                <td align=\"center\" style=\"background-color:#92CCA6\">False</td>\n",
        "                <td align=\"center\"></td>\n",
        "                <td align=\"center\" style=\"background-color:#92CCA6\">False</td>\n",
        "            </tr>\n",
        "        </table>\n",
        "        "
       ],
       "output_type": "display_data"
      },
      {
       "html": [
        "\n",
        "        <table>\n",
        "            <tr>\n",
        "                <td></td>\n",
        "                <td>Name</td>\n",
        "                <td>Value</td>\n",
        "                <td>Parab Error</td>\n",
        "                <td>Minos Error-</td>\n",
        "                <td>Minos Error+</td>\n",
        "                <td>Limit-</td>\n",
        "                <td>Limit+</td>\n",
        "                <td></td>\n",
        "            </tr>\n",
        "        \n",
        "            <tr>\n",
        "                <td>1</td>\n",
        "                <td>x</td>\n",
        "                <td>1.000000e+00</td>\n",
        "                <td>1.000000e-04</td>\n",
        "                <td>0.000000e+00</td>\n",
        "                <td>0.000000e+00</td>\n",
        "                <td>-10.0</td>\n",
        "                <td>10.0</td>\n",
        "                <td></td>\n",
        "            </tr>\n",
        "            \n",
        "            <tr>\n",
        "                <td>2</td>\n",
        "                <td>y</td>\n",
        "                <td>1.000000e+04</td>\n",
        "                <td>1.000000e+00</td>\n",
        "                <td>0.000000e+00</td>\n",
        "                <td>0.000000e+00</td>\n",
        "                <td></td>\n",
        "                <td></td>\n",
        "                <td>FIXED</td>\n",
        "            </tr>\n",
        "            \n",
        "            <tr>\n",
        "                <td>3</td>\n",
        "                <td>z</td>\n",
        "                <td>3.000000e+00</td>\n",
        "                <td>1.000000e+00</td>\n",
        "                <td>0.000000e+00</td>\n",
        "                <td>0.000000e+00</td>\n",
        "                <td></td>\n",
        "                <td></td>\n",
        "                <td></td>\n",
        "            </tr>\n",
        "            \n",
        "            </table>\n",
        "        "
       ],
       "output_type": "display_data"
      },
      {
       "html": [
        "<hr>"
       ],
       "output_type": "display_data"
      }
     ],
     "prompt_number": 36
    },
    {
     "cell_type": "code",
     "collapsed": false,
     "input": [
      "m.hesse()"
     ],
     "language": "python",
     "metadata": {},
     "outputs": [
      {
       "html": [
        "\n",
        "        <table>\n",
        "            <tr>\n",
        "                <td></td>\n",
        "                <td>Name</td>\n",
        "                <td>Value</td>\n",
        "                <td>Parab Error</td>\n",
        "                <td>Minos Error-</td>\n",
        "                <td>Minos Error+</td>\n",
        "                <td>Limit-</td>\n",
        "                <td>Limit+</td>\n",
        "                <td></td>\n",
        "            </tr>\n",
        "        \n",
        "            <tr>\n",
        "                <td>1</td>\n",
        "                <td>x</td>\n",
        "                <td>1.000000e+00</td>\n",
        "                <td>1.000000e-04</td>\n",
        "                <td>0.000000e+00</td>\n",
        "                <td>0.000000e+00</td>\n",
        "                <td>-10.0</td>\n",
        "                <td>10.0</td>\n",
        "                <td></td>\n",
        "            </tr>\n",
        "            \n",
        "            <tr>\n",
        "                <td>2</td>\n",
        "                <td>y</td>\n",
        "                <td>1.000000e+04</td>\n",
        "                <td>1.000000e+00</td>\n",
        "                <td>0.000000e+00</td>\n",
        "                <td>0.000000e+00</td>\n",
        "                <td></td>\n",
        "                <td></td>\n",
        "                <td>FIXED</td>\n",
        "            </tr>\n",
        "            \n",
        "            <tr>\n",
        "                <td>3</td>\n",
        "                <td>z</td>\n",
        "                <td>3.000000e+00</td>\n",
        "                <td>1.000000e+00</td>\n",
        "                <td>0.000000e+00</td>\n",
        "                <td>0.000000e+00</td>\n",
        "                <td></td>\n",
        "                <td></td>\n",
        "                <td></td>\n",
        "            </tr>\n",
        "            \n",
        "            </table>\n",
        "        "
       ],
       "output_type": "display_data"
      },
      {
       "html": [
        "\n",
        "            <table>\n",
        "                <tr>\n",
        "                    <td></td>\n",
        "        \n",
        "            <td>\n",
        "            <span style=\"-webkit-writing-mode:vertical-rl;-moz-writing-mode: vertical-rl;writing-mode: vertical-rl;\">\n",
        "            x\n",
        "            </span>\n",
        "            </td>\n",
        "            \n",
        "            <td>\n",
        "            <span style=\"-webkit-writing-mode:vertical-rl;-moz-writing-mode: vertical-rl;writing-mode: vertical-rl;\">\n",
        "            z\n",
        "            </span>\n",
        "            </td>\n",
        "            \n",
        "                </tr>\n",
        "                \n",
        "            <tr>\n",
        "                <td>x</td>\n",
        "            \n",
        "                <td style=\"background-color:rgb(255,117,117)\">\n",
        "                1.00\n",
        "                </td>\n",
        "                \n",
        "                <td style=\"background-color:rgb(163,254,186)\">\n",
        "                0.00\n",
        "                </td>\n",
        "                \n",
        "            </tr>\n",
        "            \n",
        "            <tr>\n",
        "                <td>z</td>\n",
        "            \n",
        "                <td style=\"background-color:rgb(163,254,186)\">\n",
        "                0.00\n",
        "                </td>\n",
        "                \n",
        "                <td style=\"background-color:rgb(255,117,117)\">\n",
        "                1.00\n",
        "                </td>\n",
        "                \n",
        "            </tr>\n",
        "            </table>"
       ],
       "output_type": "display_data"
      },
      {
       "output_type": "pyout",
       "prompt_number": 37,
       "text": [
        "[{'is_const': False, 'name': 'x', 'has_limits': True, 'value': 1.0000000012005632, 'number': 0L, 'has_lower_limit': True, 'upper_limit': 10.0, 'lower_limit': -10.0, 'has_upper_limit': True, 'error': 0.000100000000054834, 'is_fixed': False},\n",
        " {'is_const': False, 'name': 'y', 'has_limits': False, 'value': 10000.0, 'number': 1L, 'has_lower_limit': False, 'upper_limit': 0.0, 'lower_limit': 0.0, 'has_upper_limit': False, 'error': 1.0, 'is_fixed': True},\n",
        " {'is_const': False, 'name': 'z', 'has_limits': False, 'value': 3.0000000003241643, 'number': 2L, 'has_lower_limit': False, 'upper_limit': 0.0, 'lower_limit': 0.0, 'has_upper_limit': False, 'error': 1.0000000000239546, 'is_fixed': False}]"
       ]
      }
     ],
     "prompt_number": 37
    },
    {
     "cell_type": "code",
     "collapsed": false,
     "input": [
      "#and this is how you get the the value\n",
      "print 'parameters', m.parameters\n",
      "print 'args', m.args\n",
      "print 'value', m.values"
     ],
     "language": "python",
     "metadata": {},
     "outputs": [
      {
       "output_type": "stream",
       "stream": "stdout",
       "text": [
        "parameters ('x', 'y', 'z')\n",
        "args (1.0000000012005632, 10000.0, 3.0000000003241643)\n",
        "value {'y': 10000.0, 'x': 1.0000000012005632, 'z': 3.0000000003241643}\n"
       ]
      }
     ],
     "prompt_number": 38
    },
    {
     "cell_type": "code",
     "collapsed": false,
     "input": [
      "#and the error\n",
      "print 'error', m.errors"
     ],
     "language": "python",
     "metadata": {},
     "outputs": [
      {
       "output_type": "stream",
       "stream": "stdout",
       "text": [
        "error {'y': 1.0, 'x': 0.000100000000054834, 'z': 1.0000000000239546}\n"
       ]
      }
     ],
     "prompt_number": 39
    },
    {
     "cell_type": "code",
     "collapsed": false,
     "input": [
      "#and function value at the minimum\n",
      "print 'fval', m.fval"
     ],
     "language": "python",
     "metadata": {},
     "outputs": [
      {
       "output_type": "stream",
       "stream": "stdout",
       "text": [
        "fval 99960003.0\n"
       ]
      }
     ],
     "prompt_number": 40
    },
    {
     "cell_type": "code",
     "collapsed": false,
     "input": [
      "#covariance, correlation matrix\n",
      "#remember y is fixed\n",
      "print 'covariance', m.covariance\n",
      "print 'matrix()', m.matrix() #covariance\n",
      "print 'matrix(correlation=True)', m.matrix(correlation=True) #correlation\n",
      "m.print_matrix() #correlation"
     ],
     "language": "python",
     "metadata": {},
     "outputs": [
      {
       "output_type": "stream",
       "stream": "stdout",
       "text": [
        "covariance {('z', 'z'): 1.0000000000479092, ('x', 'z'): 0.0, ('x', 'x'): 1.0000000011352419e-08, ('z', 'x'): 0.0}\n",
        "matrix() ((1.0000000011352419e-08, 0.0), (0.0, 1.0000000000479092))\n",
        "matrix(correlation=True) ((1.0, 0.0), (0.0, 1.0))\n"
       ]
      },
      {
       "html": [
        "\n",
        "            <table>\n",
        "                <tr>\n",
        "                    <td></td>\n",
        "        \n",
        "            <td>\n",
        "            <span style=\"-webkit-writing-mode:vertical-rl;-moz-writing-mode: vertical-rl;writing-mode: vertical-rl;\">\n",
        "            x\n",
        "            </span>\n",
        "            </td>\n",
        "            \n",
        "            <td>\n",
        "            <span style=\"-webkit-writing-mode:vertical-rl;-moz-writing-mode: vertical-rl;writing-mode: vertical-rl;\">\n",
        "            z\n",
        "            </span>\n",
        "            </td>\n",
        "            \n",
        "                </tr>\n",
        "                \n",
        "            <tr>\n",
        "                <td>x</td>\n",
        "            \n",
        "                <td style=\"background-color:rgb(255,117,117)\">\n",
        "                1.00\n",
        "                </td>\n",
        "                \n",
        "                <td style=\"background-color:rgb(163,254,186)\">\n",
        "                0.00\n",
        "                </td>\n",
        "                \n",
        "            </tr>\n",
        "            \n",
        "            <tr>\n",
        "                <td>z</td>\n",
        "            \n",
        "                <td style=\"background-color:rgb(163,254,186)\">\n",
        "                0.00\n",
        "                </td>\n",
        "                \n",
        "                <td style=\"background-color:rgb(255,117,117)\">\n",
        "                1.00\n",
        "                </td>\n",
        "                \n",
        "            </tr>\n",
        "            </table>"
       ],
       "output_type": "display_data"
      }
     ],
     "prompt_number": 41
    },
    {
     "cell_type": "code",
     "collapsed": false,
     "input": [
      "#get mimization status\n",
      "print m.get_fmin()\n",
      "print m.get_fmin().is_valid"
     ],
     "language": "python",
     "metadata": {},
     "outputs": [
      {
       "output_type": "stream",
       "stream": "stdout",
       "text": [
        "{'hesse_failed': False, 'has_reached_call_limit': False, 'has_accurate_covar': True, 'has_posdef_covar': True, 'up': 1.0, 'edm': 1.4353346977625968e-10, 'is_valid': True, 'is_above_max_edm': False, 'has_covariance': True, 'has_made_posdef_covar': False, 'has_valid_parameters': True, 'fval': 99960003.0, 'nfcn': 43}\n",
        "True\n"
       ]
      }
     ],
     "prompt_number": 42
    },
    {
     "cell_type": "code",
     "collapsed": false,
     "input": [
      "#you can run hesse() to get (re)calculate hessian matrix\n",
      "#What you care is value and Parab(olic) error.\n",
      "m.hesse()"
     ],
     "language": "python",
     "metadata": {},
     "outputs": [
      {
       "html": [
        "\n",
        "        <table>\n",
        "            <tr>\n",
        "                <td></td>\n",
        "                <td>Name</td>\n",
        "                <td>Value</td>\n",
        "                <td>Parab Error</td>\n",
        "                <td>Minos Error-</td>\n",
        "                <td>Minos Error+</td>\n",
        "                <td>Limit-</td>\n",
        "                <td>Limit+</td>\n",
        "                <td></td>\n",
        "            </tr>\n",
        "        \n",
        "            <tr>\n",
        "                <td>1</td>\n",
        "                <td>x</td>\n",
        "                <td>1.000000e+00</td>\n",
        "                <td>1.000000e-04</td>\n",
        "                <td>0.000000e+00</td>\n",
        "                <td>0.000000e+00</td>\n",
        "                <td>-10.0</td>\n",
        "                <td>10.0</td>\n",
        "                <td></td>\n",
        "            </tr>\n",
        "            \n",
        "            <tr>\n",
        "                <td>2</td>\n",
        "                <td>y</td>\n",
        "                <td>1.000000e+04</td>\n",
        "                <td>1.000000e+00</td>\n",
        "                <td>0.000000e+00</td>\n",
        "                <td>0.000000e+00</td>\n",
        "                <td></td>\n",
        "                <td></td>\n",
        "                <td>FIXED</td>\n",
        "            </tr>\n",
        "            \n",
        "            <tr>\n",
        "                <td>3</td>\n",
        "                <td>z</td>\n",
        "                <td>3.000000e+00</td>\n",
        "                <td>1.000000e+00</td>\n",
        "                <td>0.000000e+00</td>\n",
        "                <td>0.000000e+00</td>\n",
        "                <td></td>\n",
        "                <td></td>\n",
        "                <td></td>\n",
        "            </tr>\n",
        "            \n",
        "            </table>\n",
        "        "
       ],
       "output_type": "display_data"
      },
      {
       "html": [
        "\n",
        "            <table>\n",
        "                <tr>\n",
        "                    <td></td>\n",
        "        \n",
        "            <td>\n",
        "            <span style=\"-webkit-writing-mode:vertical-rl;-moz-writing-mode: vertical-rl;writing-mode: vertical-rl;\">\n",
        "            x\n",
        "            </span>\n",
        "            </td>\n",
        "            \n",
        "            <td>\n",
        "            <span style=\"-webkit-writing-mode:vertical-rl;-moz-writing-mode: vertical-rl;writing-mode: vertical-rl;\">\n",
        "            z\n",
        "            </span>\n",
        "            </td>\n",
        "            \n",
        "                </tr>\n",
        "                \n",
        "            <tr>\n",
        "                <td>x</td>\n",
        "            \n",
        "                <td style=\"background-color:rgb(255,117,117)\">\n",
        "                1.00\n",
        "                </td>\n",
        "                \n",
        "                <td style=\"background-color:rgb(163,254,186)\">\n",
        "                0.00\n",
        "                </td>\n",
        "                \n",
        "            </tr>\n",
        "            \n",
        "            <tr>\n",
        "                <td>z</td>\n",
        "            \n",
        "                <td style=\"background-color:rgb(163,254,186)\">\n",
        "                0.00\n",
        "                </td>\n",
        "                \n",
        "                <td style=\"background-color:rgb(255,117,117)\">\n",
        "                1.00\n",
        "                </td>\n",
        "                \n",
        "            </tr>\n",
        "            </table>"
       ],
       "output_type": "display_data"
      },
      {
       "output_type": "pyout",
       "prompt_number": 43,
       "text": [
        "[{'is_const': False, 'name': 'x', 'has_limits': True, 'value': 1.0000000012005632, 'number': 0L, 'has_lower_limit': True, 'upper_limit': 10.0, 'lower_limit': -10.0, 'has_upper_limit': True, 'error': 0.000100000000054834, 'is_fixed': False},\n",
        " {'is_const': False, 'name': 'y', 'has_limits': False, 'value': 10000.0, 'number': 1L, 'has_lower_limit': False, 'upper_limit': 0.0, 'lower_limit': 0.0, 'has_upper_limit': False, 'error': 1.0, 'is_fixed': True},\n",
        " {'is_const': False, 'name': 'z', 'has_limits': False, 'value': 3.0000000003241643, 'number': 2L, 'has_lower_limit': False, 'upper_limit': 0.0, 'lower_limit': 0.0, 'has_upper_limit': False, 'error': 1.0000000000239546, 'is_fixed': False}]"
       ]
      }
     ],
     "prompt_number": 43
    },
    {
     "cell_type": "code",
     "collapsed": false,
     "input": [
      "#to get minos error you do\n",
      "m.minos()\n",
      "print m.get_merrors()['x']\n",
      "print m.get_merrors()['x'].lower\n",
      "print m.get_merrors()['x'].upper"
     ],
     "language": "python",
     "metadata": {},
     "outputs": [
      {
       "html": [
        "\n",
        "        <span>Minos status for x: <span style=\"background-color:#92CCA6\">VALID</span></span>\n",
        "        <table>\n",
        "            <tr>\n",
        "                <td>Error</td>\n",
        "                <td>-0.000100001200365</td>\n",
        "                <td>9.99987997879e-05</td>\n",
        "            </tr>\n",
        "            <tr>\n",
        "                <td>Valid</td>\n",
        "                <td style=\"background-color:#92CCA6\">True</td>\n",
        "                <td style=\"background-color:#92CCA6\">True</td>\n",
        "            </tr>\n",
        "            <tr>\n",
        "                <td>At Limit</td>\n",
        "                <td style=\"background-color:#92CCA6\">False</td>\n",
        "                <td style=\"background-color:#92CCA6\">False</td>\n",
        "            </tr>\n",
        "            <tr>\n",
        "                <td>Max FCN</td>\n",
        "                <td style=\"background-color:#92CCA6\">False</td>\n",
        "                <td style=\"background-color:#92CCA6\">False</td>\n",
        "            </tr>\n",
        "            <tr>\n",
        "                <td>New Min</td>\n",
        "                <td style=\"background-color:#92CCA6\">False</td>\n",
        "                <td style=\"background-color:#92CCA6\">False</td>\n",
        "            </tr>\n",
        "        </table>\n",
        "        "
       ],
       "output_type": "display_data"
      },
      {
       "html": [
        "\n",
        "        <span>Minos status for z: <span style=\"background-color:#92CCA6\">VALID</span></span>\n",
        "        <table>\n",
        "            <tr>\n",
        "                <td>Error</td>\n",
        "                <td>-1.00000000002</td>\n",
        "                <td>1.00000000002</td>\n",
        "            </tr>\n",
        "            <tr>\n",
        "                <td>Valid</td>\n",
        "                <td style=\"background-color:#92CCA6\">True</td>\n",
        "                <td style=\"background-color:#92CCA6\">True</td>\n",
        "            </tr>\n",
        "            <tr>\n",
        "                <td>At Limit</td>\n",
        "                <td style=\"background-color:#92CCA6\">False</td>\n",
        "                <td style=\"background-color:#92CCA6\">False</td>\n",
        "            </tr>\n",
        "            <tr>\n",
        "                <td>Max FCN</td>\n",
        "                <td style=\"background-color:#92CCA6\">False</td>\n",
        "                <td style=\"background-color:#92CCA6\">False</td>\n",
        "            </tr>\n",
        "            <tr>\n",
        "                <td>New Min</td>\n",
        "                <td style=\"background-color:#92CCA6\">False</td>\n",
        "                <td style=\"background-color:#92CCA6\">False</td>\n",
        "            </tr>\n",
        "        </table>\n",
        "        "
       ],
       "output_type": "display_data"
      },
      {
       "output_type": "stream",
       "stream": "stdout",
       "text": [
        "{'lower_new_min': False, 'upper': 9.999879978790915e-05, 'lower': -0.00010000120036497965, 'at_lower_limit': False, 'min': 1.0000000012005632, 'at_lower_max_fcn': False, 'is_valid': True, 'upper_new_min': False, 'at_upper_limit': False, 'lower_valid': True, 'upper_valid': True, 'at_upper_max_fcn': False, 'nfcn': 6L}\n",
        "-0.000100001200365\n",
        "9.99987997879e-05\n"
       ]
      }
     ],
     "prompt_number": 44
    },
    {
     "cell_type": "code",
     "collapsed": false,
     "input": [
      "#you can force use print_* to do various html display\n",
      "m.print_param()"
     ],
     "language": "python",
     "metadata": {},
     "outputs": [
      {
       "html": [
        "\n",
        "        <table>\n",
        "            <tr>\n",
        "                <td></td>\n",
        "                <td>Name</td>\n",
        "                <td>Value</td>\n",
        "                <td>Parab Error</td>\n",
        "                <td>Minos Error-</td>\n",
        "                <td>Minos Error+</td>\n",
        "                <td>Limit-</td>\n",
        "                <td>Limit+</td>\n",
        "                <td></td>\n",
        "            </tr>\n",
        "        \n",
        "            <tr>\n",
        "                <td>1</td>\n",
        "                <td>x</td>\n",
        "                <td>1.000000e+00</td>\n",
        "                <td>1.000000e-04</td>\n",
        "                <td>-1.000012e-04</td>\n",
        "                <td>9.999880e-05</td>\n",
        "                <td>-10.0</td>\n",
        "                <td>10.0</td>\n",
        "                <td></td>\n",
        "            </tr>\n",
        "            \n",
        "            <tr>\n",
        "                <td>2</td>\n",
        "                <td>y</td>\n",
        "                <td>1.000000e+04</td>\n",
        "                <td>1.000000e+00</td>\n",
        "                <td>0.000000e+00</td>\n",
        "                <td>0.000000e+00</td>\n",
        "                <td></td>\n",
        "                <td></td>\n",
        "                <td>FIXED</td>\n",
        "            </tr>\n",
        "            \n",
        "            <tr>\n",
        "                <td>3</td>\n",
        "                <td>z</td>\n",
        "                <td>3.000000e+00</td>\n",
        "                <td>1.000000e+00</td>\n",
        "                <td>-1.000000e+00</td>\n",
        "                <td>1.000000e+00</td>\n",
        "                <td></td>\n",
        "                <td></td>\n",
        "                <td></td>\n",
        "            </tr>\n",
        "            \n",
        "            </table>\n",
        "        "
       ],
       "output_type": "display_data"
      }
     ],
     "prompt_number": 45
    },
    {
     "cell_type": "heading",
     "level": 1,
     "metadata": {},
     "source": [
      "Alternative Ways to define function"
     ]
    },
    {
     "cell_type": "heading",
     "level": 4,
     "metadata": {},
     "source": [
      "Cython"
     ]
    },
    {
     "cell_type": "code",
     "collapsed": false,
     "input": [
      "#sometimes we want speeeeeeed\n",
      "%load_ext cythonmagic"
     ],
     "language": "python",
     "metadata": {},
     "outputs": [
      {
       "output_type": "stream",
       "stream": "stdout",
       "text": [
        "The cythonmagic extension is already loaded. To reload it, use:\n",
        "  %reload_ext cythonmagic\n"
       ]
      }
     ],
     "prompt_number": 46
    },
    {
     "cell_type": "code",
     "collapsed": false,
     "input": [
      "%%cython\n",
      "cimport cython\n",
      "\n",
      "@cython.binding(True)#you need this otherwise RTMinuit can't extract signature\n",
      "def cython_f(double x,double y,double z):\n",
      "    return (x-1.)**2 + (y-2.)**2 + (z-3.)**2 -1."
     ],
     "language": "python",
     "metadata": {},
     "outputs": [],
     "prompt_number": 47
    },
    {
     "cell_type": "code",
     "collapsed": false,
     "input": [
      "#you can always see what RTMinuit will see\n",
      "print describe(cython_f)"
     ],
     "language": "python",
     "metadata": {},
     "outputs": [
      {
       "output_type": "stream",
       "stream": "stdout",
       "text": [
        "('x', 'y', 'z')\n"
       ]
      }
     ],
     "prompt_number": 48
    },
    {
     "cell_type": "code",
     "collapsed": false,
     "input": [
      "m = Minuit(cython_f)\n",
      "m.migrad()\n",
      "print m.values"
     ],
     "language": "python",
     "metadata": {},
     "outputs": [
      {
       "output_type": "stream",
       "stream": "stderr",
       "text": [
        "-c:1: RTMinuitInitialParamWarning: Parameter x does not have initial value. Assume 0.\n",
        "-c:1: RTMinuitInitialParamWarning: Parameter x is floating but does not have initial step size. Assume 1.\n",
        "-c:1: RTMinuitInitialParamWarning: Parameter y does not have initial value. Assume 0.\n",
        "-c:1: RTMinuitInitialParamWarning: Parameter y is floating but does not have initial step size. Assume 1.\n",
        "-c:1: RTMinuitInitialParamWarning: Parameter z does not have initial value. Assume 0.\n",
        "-c:1: RTMinuitInitialParamWarning: Parameter z is floating but does not have initial step size. Assume 1.\n"
       ]
      },
      {
       "html": [
        "<hr>"
       ],
       "output_type": "display_data"
      },
      {
       "html": [
        "\n",
        "        <table>\n",
        "            <tr>\n",
        "                <td>FCN = -1.0</td>\n",
        "                <td>NFCN = 36</td>\n",
        "                <td>NCALLS = 36</td>\n",
        "            </tr>\n",
        "            <tr>\n",
        "                <td>EDM = 8.24353485149e-23</td>\n",
        "                <td>GOAL EDM = 1e-05</td>\n",
        "                <td>UP = 1.0</td>\n",
        "            </tr>\n",
        "        </table>\n",
        "        \n",
        "        <table>\n",
        "            <tr>\n",
        "                <td align=\"center\">Valid</td>\n",
        "                <td align=\"center\">Valid Param</td>\n",
        "                <td align=\"center\">Accurate Covar</td>\n",
        "                <td align=\"center\">PosDef</td>\n",
        "                <td align=\"center\">Made PosDef</td>\n",
        "            </tr>\n",
        "            <tr>\n",
        "                <td align=\"center\" style=\"background-color:#92CCA6\">True</td>\n",
        "                <td align=\"center\" style=\"background-color:#92CCA6\">True</td>\n",
        "                <td align=\"center\" style=\"background-color:#92CCA6\">True</td>\n",
        "                <td align=\"center\" style=\"background-color:#92CCA6\">True</td>\n",
        "                <td align=\"center\" style=\"background-color:#92CCA6\">False</td>\n",
        "            </tr>\n",
        "            <tr>\n",
        "                <td align=\"center\">Hesse Fail</td>\n",
        "                <td align=\"center\">HasCov</td>\n",
        "                <td align=\"center\">Above EDM</td>\n",
        "                <td align=\"center\"></td>\n",
        "                <td align=\"center\">Reach calllim</td>\n",
        "            </tr>\n",
        "            <tr>\n",
        "                <td align=\"center\" style=\"background-color:#92CCA6\">False</td>\n",
        "                <td align=\"center\" style=\"background-color:#92CCA6\">True</td>\n",
        "                <td align=\"center\" style=\"background-color:#92CCA6\">False</td>\n",
        "                <td align=\"center\"></td>\n",
        "                <td align=\"center\" style=\"background-color:#92CCA6\">False</td>\n",
        "            </tr>\n",
        "        </table>\n",
        "        "
       ],
       "output_type": "display_data"
      },
      {
       "html": [
        "\n",
        "        <table>\n",
        "            <tr>\n",
        "                <td></td>\n",
        "                <td>Name</td>\n",
        "                <td>Value</td>\n",
        "                <td>Parab Error</td>\n",
        "                <td>Minos Error-</td>\n",
        "                <td>Minos Error+</td>\n",
        "                <td>Limit-</td>\n",
        "                <td>Limit+</td>\n",
        "                <td></td>\n",
        "            </tr>\n",
        "        \n",
        "            <tr>\n",
        "                <td>1</td>\n",
        "                <td>x</td>\n",
        "                <td>1.000000e+00</td>\n",
        "                <td>1.000000e+00</td>\n",
        "                <td>0.000000e+00</td>\n",
        "                <td>0.000000e+00</td>\n",
        "                <td></td>\n",
        "                <td></td>\n",
        "                <td></td>\n",
        "            </tr>\n",
        "            \n",
        "            <tr>\n",
        "                <td>2</td>\n",
        "                <td>y</td>\n",
        "                <td>2.000000e+00</td>\n",
        "                <td>1.000000e+00</td>\n",
        "                <td>0.000000e+00</td>\n",
        "                <td>0.000000e+00</td>\n",
        "                <td></td>\n",
        "                <td></td>\n",
        "                <td></td>\n",
        "            </tr>\n",
        "            \n",
        "            <tr>\n",
        "                <td>3</td>\n",
        "                <td>z</td>\n",
        "                <td>3.000000e+00</td>\n",
        "                <td>1.000000e+00</td>\n",
        "                <td>0.000000e+00</td>\n",
        "                <td>0.000000e+00</td>\n",
        "                <td></td>\n",
        "                <td></td>\n",
        "                <td></td>\n",
        "            </tr>\n",
        "            \n",
        "            </table>\n",
        "        "
       ],
       "output_type": "display_data"
      },
      {
       "html": [
        "<hr>"
       ],
       "output_type": "display_data"
      },
      {
       "output_type": "stream",
       "stream": "stdout",
       "text": [
        "{'y': 2.0000000000047877, 'x': 1.000000000002637, 'z': 3.000000000007182}\n"
       ]
      }
     ],
     "prompt_number": 49
    },
    {
     "cell_type": "heading",
     "level": 4,
     "metadata": {},
     "source": [
      "Callable object ie: __call__"
     ]
    },
    {
     "cell_type": "code",
     "collapsed": false,
     "input": [
      "x = [1,2,3,4,5]\n",
      "y = [2,4,6,8,10]# y=2x\n",
      "class StraightLineChi2:\n",
      "    def __init__(self,x,y):\n",
      "        self.x = x\n",
      "        self.y = y\n",
      "    def __call__(self,m,c): #lets try to find slope and intercept\n",
      "        chi2 = sum((y - m*x+c)**2 for x,y in zip(self.x,self.y))\n",
      "        return chi2"
     ],
     "language": "python",
     "metadata": {},
     "outputs": [],
     "prompt_number": 50
    },
    {
     "cell_type": "code",
     "collapsed": false,
     "input": [
      "chi2 = StraightLineChi2(x,y)\n",
      "describe(chi2)"
     ],
     "language": "python",
     "metadata": {},
     "outputs": [
      {
       "output_type": "pyout",
       "prompt_number": 51,
       "text": [
        "('m', 'c')"
       ]
      }
     ],
     "prompt_number": 51
    },
    {
     "cell_type": "code",
     "collapsed": false,
     "input": [
      "m = Minuit(chi2)\n",
      "m.migrad()\n",
      "print m.values"
     ],
     "language": "python",
     "metadata": {},
     "outputs": [
      {
       "output_type": "stream",
       "stream": "stderr",
       "text": [
        "-c:1: RTMinuitInitialParamWarning: Parameter m does not have initial value. Assume 0.\n",
        "-c:1: RTMinuitInitialParamWarning: Parameter m is floating but does not have initial step size. Assume 1.\n",
        "-c:1: RTMinuitInitialParamWarning: Parameter c does not have initial value. Assume 0.\n",
        "-c:1: RTMinuitInitialParamWarning: Parameter c is floating but does not have initial step size. Assume 1.\n"
       ]
      },
      {
       "html": [
        "<hr>"
       ],
       "output_type": "display_data"
      },
      {
       "html": [
        "\n",
        "        <table>\n",
        "            <tr>\n",
        "                <td>FCN = 6.31477238173e-26</td>\n",
        "                <td>NFCN = 32</td>\n",
        "                <td>NCALLS = 32</td>\n",
        "            </tr>\n",
        "            <tr>\n",
        "                <td>EDM = 6.32720690373e-26</td>\n",
        "                <td>GOAL EDM = 1e-05</td>\n",
        "                <td>UP = 1.0</td>\n",
        "            </tr>\n",
        "        </table>\n",
        "        \n",
        "        <table>\n",
        "            <tr>\n",
        "                <td align=\"center\">Valid</td>\n",
        "                <td align=\"center\">Valid Param</td>\n",
        "                <td align=\"center\">Accurate Covar</td>\n",
        "                <td align=\"center\">PosDef</td>\n",
        "                <td align=\"center\">Made PosDef</td>\n",
        "            </tr>\n",
        "            <tr>\n",
        "                <td align=\"center\" style=\"background-color:#92CCA6\">True</td>\n",
        "                <td align=\"center\" style=\"background-color:#92CCA6\">True</td>\n",
        "                <td align=\"center\" style=\"background-color:#92CCA6\">True</td>\n",
        "                <td align=\"center\" style=\"background-color:#92CCA6\">True</td>\n",
        "                <td align=\"center\" style=\"background-color:#92CCA6\">False</td>\n",
        "            </tr>\n",
        "            <tr>\n",
        "                <td align=\"center\">Hesse Fail</td>\n",
        "                <td align=\"center\">HasCov</td>\n",
        "                <td align=\"center\">Above EDM</td>\n",
        "                <td align=\"center\"></td>\n",
        "                <td align=\"center\">Reach calllim</td>\n",
        "            </tr>\n",
        "            <tr>\n",
        "                <td align=\"center\" style=\"background-color:#92CCA6\">False</td>\n",
        "                <td align=\"center\" style=\"background-color:#92CCA6\">True</td>\n",
        "                <td align=\"center\" style=\"background-color:#92CCA6\">False</td>\n",
        "                <td align=\"center\"></td>\n",
        "                <td align=\"center\" style=\"background-color:#92CCA6\">False</td>\n",
        "            </tr>\n",
        "        </table>\n",
        "        "
       ],
       "output_type": "display_data"
      },
      {
       "html": [
        "\n",
        "        <table>\n",
        "            <tr>\n",
        "                <td></td>\n",
        "                <td>Name</td>\n",
        "                <td>Value</td>\n",
        "                <td>Parab Error</td>\n",
        "                <td>Minos Error-</td>\n",
        "                <td>Minos Error+</td>\n",
        "                <td>Limit-</td>\n",
        "                <td>Limit+</td>\n",
        "                <td></td>\n",
        "            </tr>\n",
        "        \n",
        "            <tr>\n",
        "                <td>1</td>\n",
        "                <td>m</td>\n",
        "                <td>2.000000e+00</td>\n",
        "                <td>3.162278e-01</td>\n",
        "                <td>0.000000e+00</td>\n",
        "                <td>0.000000e+00</td>\n",
        "                <td></td>\n",
        "                <td></td>\n",
        "                <td></td>\n",
        "            </tr>\n",
        "            \n",
        "            <tr>\n",
        "                <td>2</td>\n",
        "                <td>c</td>\n",
        "                <td>-4.884981e-14</td>\n",
        "                <td>1.048809e+00</td>\n",
        "                <td>0.000000e+00</td>\n",
        "                <td>0.000000e+00</td>\n",
        "                <td></td>\n",
        "                <td></td>\n",
        "                <td></td>\n",
        "            </tr>\n",
        "            \n",
        "            </table>\n",
        "        "
       ],
       "output_type": "display_data"
      },
      {
       "html": [
        "<hr>"
       ],
       "output_type": "display_data"
      },
      {
       "output_type": "stream",
       "stream": "stdout",
       "text": [
        "{'c': -4.884981308350689e-14, 'm': 2.00000000000002}\n"
       ]
      }
     ],
     "prompt_number": 52
    },
    {
     "cell_type": "heading",
     "level": 4,
     "metadata": {},
     "source": [
      "Faking a function signature"
     ]
    },
    {
     "cell_type": "code",
     "collapsed": false,
     "input": [
      "#this is very useful if you want to build a generic cost functor\n",
      "#this is actually how dist_fit is implemented\n",
      "x = [1,2,3,4,5]\n",
      "y = [2,4,6,8,10]# y=2x\n",
      "class Chi2Functor:\n",
      "    def __init__(self,f,x,y):\n",
      "        self.f = f\n",
      "        self.x = x\n",
      "        self.y = y\n",
      "        f_sig = describe(f)\n",
      "        #this is how you fake function \n",
      "        #signature dynamically\n",
      "        self.func_code = Struct(\n",
      "                                co_varnames = f_sig[1:], #dock off independent variable\n",
      "                                co_argcount = len(f_sig)-1\n",
      "                                )\n",
      "        self.func_defaults = None #this keeps np.vectorize happy\n",
      "    def __call__(self,*arg):\n",
      "        #notice that it accept variable length\n",
      "        #positional arguments\n",
      "        chi2 = sum((y-self.f(x,*arg))**2 for x,y in zip(self.x,self.y))\n",
      "        return chi2"
     ],
     "language": "python",
     "metadata": {},
     "outputs": [],
     "prompt_number": 53
    },
    {
     "cell_type": "code",
     "collapsed": false,
     "input": [
      "def linear(x,m,c):\n",
      "    return m*x+c\n",
      "\n",
      "def parabola(x,a,b,c):\n",
      "    return a*x**2 + b*x + c "
     ],
     "language": "python",
     "metadata": {},
     "outputs": [],
     "prompt_number": 54
    },
    {
     "cell_type": "code",
     "collapsed": false,
     "input": [
      "linear_chi2 = Chi2Functor(linear,x,y)\n",
      "describe(linear_chi2)"
     ],
     "language": "python",
     "metadata": {},
     "outputs": [
      {
       "output_type": "pyout",
       "prompt_number": 55,
       "text": [
        "('m', 'c')"
       ]
      }
     ],
     "prompt_number": 55
    },
    {
     "cell_type": "code",
     "collapsed": false,
     "input": [
      "m = Minuit(linear_chi2)\n",
      "m.migrad();\n",
      "print m.values"
     ],
     "language": "python",
     "metadata": {},
     "outputs": [
      {
       "output_type": "stream",
       "stream": "stderr",
       "text": [
        "-c:1: RTMinuitInitialParamWarning: Parameter m does not have initial value. Assume 0.\n",
        "-c:1: RTMinuitInitialParamWarning: Parameter m is floating but does not have initial step size. Assume 1.\n",
        "-c:1: RTMinuitInitialParamWarning: Parameter c does not have initial value. Assume 0.\n",
        "-c:1: RTMinuitInitialParamWarning: Parameter c is floating but does not have initial step size. Assume 1.\n"
       ]
      },
      {
       "html": [
        "<hr>"
       ],
       "output_type": "display_data"
      },
      {
       "html": [
        "\n",
        "        <table>\n",
        "            <tr>\n",
        "                <td>FCN = 6.48916980635e-26</td>\n",
        "                <td>NFCN = 32</td>\n",
        "                <td>NCALLS = 32</td>\n",
        "            </tr>\n",
        "            <tr>\n",
        "                <td>EDM = 6.48992044656e-26</td>\n",
        "                <td>GOAL EDM = 1e-05</td>\n",
        "                <td>UP = 1.0</td>\n",
        "            </tr>\n",
        "        </table>\n",
        "        \n",
        "        <table>\n",
        "            <tr>\n",
        "                <td align=\"center\">Valid</td>\n",
        "                <td align=\"center\">Valid Param</td>\n",
        "                <td align=\"center\">Accurate Covar</td>\n",
        "                <td align=\"center\">PosDef</td>\n",
        "                <td align=\"center\">Made PosDef</td>\n",
        "            </tr>\n",
        "            <tr>\n",
        "                <td align=\"center\" style=\"background-color:#92CCA6\">True</td>\n",
        "                <td align=\"center\" style=\"background-color:#92CCA6\">True</td>\n",
        "                <td align=\"center\" style=\"background-color:#92CCA6\">True</td>\n",
        "                <td align=\"center\" style=\"background-color:#92CCA6\">True</td>\n",
        "                <td align=\"center\" style=\"background-color:#92CCA6\">False</td>\n",
        "            </tr>\n",
        "            <tr>\n",
        "                <td align=\"center\">Hesse Fail</td>\n",
        "                <td align=\"center\">HasCov</td>\n",
        "                <td align=\"center\">Above EDM</td>\n",
        "                <td align=\"center\"></td>\n",
        "                <td align=\"center\">Reach calllim</td>\n",
        "            </tr>\n",
        "            <tr>\n",
        "                <td align=\"center\" style=\"background-color:#92CCA6\">False</td>\n",
        "                <td align=\"center\" style=\"background-color:#92CCA6\">True</td>\n",
        "                <td align=\"center\" style=\"background-color:#92CCA6\">False</td>\n",
        "                <td align=\"center\"></td>\n",
        "                <td align=\"center\" style=\"background-color:#92CCA6\">False</td>\n",
        "            </tr>\n",
        "        </table>\n",
        "        "
       ],
       "output_type": "display_data"
      },
      {
       "html": [
        "\n",
        "        <table>\n",
        "            <tr>\n",
        "                <td></td>\n",
        "                <td>Name</td>\n",
        "                <td>Value</td>\n",
        "                <td>Parab Error</td>\n",
        "                <td>Minos Error-</td>\n",
        "                <td>Minos Error+</td>\n",
        "                <td>Limit-</td>\n",
        "                <td>Limit+</td>\n",
        "                <td></td>\n",
        "            </tr>\n",
        "        \n",
        "            <tr>\n",
        "                <td>1</td>\n",
        "                <td>m</td>\n",
        "                <td>2.000000e+00</td>\n",
        "                <td>3.162278e-01</td>\n",
        "                <td>0.000000e+00</td>\n",
        "                <td>0.000000e+00</td>\n",
        "                <td></td>\n",
        "                <td></td>\n",
        "                <td></td>\n",
        "            </tr>\n",
        "            \n",
        "            <tr>\n",
        "                <td>2</td>\n",
        "                <td>c</td>\n",
        "                <td>3.375078e-14</td>\n",
        "                <td>1.048809e+00</td>\n",
        "                <td>0.000000e+00</td>\n",
        "                <td>0.000000e+00</td>\n",
        "                <td></td>\n",
        "                <td></td>\n",
        "                <td></td>\n",
        "            </tr>\n",
        "            \n",
        "            </table>\n",
        "        "
       ],
       "output_type": "display_data"
      },
      {
       "html": [
        "<hr>"
       ],
       "output_type": "display_data"
      },
      {
       "output_type": "stream",
       "stream": "stdout",
       "text": [
        "{'c': 3.375077994860476e-14, 'm': 2.000000000000025}\n"
       ]
      }
     ],
     "prompt_number": 56
    },
    {
     "cell_type": "code",
     "collapsed": false,
     "input": [
      "#now here is the beauty\n",
      "#you can use the same Chi2Functor now for parabola\n",
      "parab_chi2 = Chi2Functor(parabola,x,y)\n",
      "describe(parab_chi2)"
     ],
     "language": "python",
     "metadata": {},
     "outputs": [
      {
       "output_type": "pyout",
       "prompt_number": 57,
       "text": [
        "('a', 'b', 'c')"
       ]
      }
     ],
     "prompt_number": 57
    },
    {
     "cell_type": "code",
     "collapsed": false,
     "input": [
      "m = Minuit(parab_chi2,x,y)\n",
      "m.migrad()\n",
      "print m.values"
     ],
     "language": "python",
     "metadata": {},
     "outputs": [
      {
       "output_type": "stream",
       "stream": "stderr",
       "text": [
        "-c:1: RTMinuitInitialParamWarning: Parameter a does not have initial value. Assume 0.\n",
        "-c:1: RTMinuitInitialParamWarning: Parameter a is floating but does not have initial step size. Assume 1.\n",
        "-c:1: RTMinuitInitialParamWarning: Parameter b does not have initial value. Assume 0.\n",
        "-c:1: RTMinuitInitialParamWarning: Parameter b is floating but does not have initial step size. Assume 1.\n",
        "-c:1: RTMinuitInitialParamWarning: Parameter c does not have initial value. Assume 0.\n",
        "-c:1: RTMinuitInitialParamWarning: Parameter c is floating but does not have initial step size. Assume 1.\n"
       ]
      },
      {
       "html": [
        "<hr>"
       ],
       "output_type": "display_data"
      },
      {
       "html": [
        "\n",
        "        <table>\n",
        "            <tr>\n",
        "                <td>FCN = 1.50034031957e-18</td>\n",
        "                <td>NFCN = 59</td>\n",
        "                <td>NCALLS = 59</td>\n",
        "            </tr>\n",
        "            <tr>\n",
        "                <td>EDM = 1.50033920511e-18</td>\n",
        "                <td>GOAL EDM = 1e-05</td>\n",
        "                <td>UP = 1.0</td>\n",
        "            </tr>\n",
        "        </table>\n",
        "        \n",
        "        <table>\n",
        "            <tr>\n",
        "                <td align=\"center\">Valid</td>\n",
        "                <td align=\"center\">Valid Param</td>\n",
        "                <td align=\"center\">Accurate Covar</td>\n",
        "                <td align=\"center\">PosDef</td>\n",
        "                <td align=\"center\">Made PosDef</td>\n",
        "            </tr>\n",
        "            <tr>\n",
        "                <td align=\"center\" style=\"background-color:#92CCA6\">True</td>\n",
        "                <td align=\"center\" style=\"background-color:#92CCA6\">True</td>\n",
        "                <td align=\"center\" style=\"background-color:#92CCA6\">True</td>\n",
        "                <td align=\"center\" style=\"background-color:#92CCA6\">True</td>\n",
        "                <td align=\"center\" style=\"background-color:#92CCA6\">False</td>\n",
        "            </tr>\n",
        "            <tr>\n",
        "                <td align=\"center\">Hesse Fail</td>\n",
        "                <td align=\"center\">HasCov</td>\n",
        "                <td align=\"center\">Above EDM</td>\n",
        "                <td align=\"center\"></td>\n",
        "                <td align=\"center\">Reach calllim</td>\n",
        "            </tr>\n",
        "            <tr>\n",
        "                <td align=\"center\" style=\"background-color:#92CCA6\">False</td>\n",
        "                <td align=\"center\" style=\"background-color:#92CCA6\">True</td>\n",
        "                <td align=\"center\" style=\"background-color:#92CCA6\">False</td>\n",
        "                <td align=\"center\"></td>\n",
        "                <td align=\"center\" style=\"background-color:#92CCA6\">False</td>\n",
        "            </tr>\n",
        "        </table>\n",
        "        "
       ],
       "output_type": "display_data"
      },
      {
       "html": [
        "\n",
        "        <table>\n",
        "            <tr>\n",
        "                <td></td>\n",
        "                <td>Name</td>\n",
        "                <td>Value</td>\n",
        "                <td>Parab Error</td>\n",
        "                <td>Minos Error-</td>\n",
        "                <td>Minos Error+</td>\n",
        "                <td>Limit-</td>\n",
        "                <td>Limit+</td>\n",
        "                <td></td>\n",
        "            </tr>\n",
        "        \n",
        "            <tr>\n",
        "                <td>1</td>\n",
        "                <td>a</td>\n",
        "                <td>-4.761125e-11</td>\n",
        "                <td>2.672612e-01</td>\n",
        "                <td>0.000000e+00</td>\n",
        "                <td>0.000000e+00</td>\n",
        "                <td></td>\n",
        "                <td></td>\n",
        "                <td></td>\n",
        "            </tr>\n",
        "            \n",
        "            <tr>\n",
        "                <td>2</td>\n",
        "                <td>b</td>\n",
        "                <td>2.000000e+00</td>\n",
        "                <td>1.634451e+00</td>\n",
        "                <td>0.000000e+00</td>\n",
        "                <td>0.000000e+00</td>\n",
        "                <td></td>\n",
        "                <td></td>\n",
        "                <td></td>\n",
        "            </tr>\n",
        "            \n",
        "            <tr>\n",
        "                <td>3</td>\n",
        "                <td>c</td>\n",
        "                <td>8.948271e-10</td>\n",
        "                <td>2.144761e+00</td>\n",
        "                <td>0.000000e+00</td>\n",
        "                <td>0.000000e+00</td>\n",
        "                <td></td>\n",
        "                <td></td>\n",
        "                <td></td>\n",
        "            </tr>\n",
        "            \n",
        "            </table>\n",
        "        "
       ],
       "output_type": "display_data"
      },
      {
       "html": [
        "<hr>"
       ],
       "output_type": "display_data"
      },
      {
       "output_type": "stream",
       "stream": "stdout",
       "text": [
        "{'a': -4.761124827723506e-11, 'c': 8.948271013053954e-10, 'b': 1.9999999999086318}\n"
       ]
      }
     ],
     "prompt_number": 58
    },
    {
     "cell_type": "heading",
     "level": 4,
     "metadata": {},
     "source": [
      "Last Resort: Forcing function signature"
     ]
    },
    {
     "cell_type": "code",
     "collapsed": false,
     "input": [
      "%%cython\n",
      "#sometimes you get a function with absolutely no signature\n",
      "#We didn't put cython.binding(True) here \n",
      "def nosig_f(x,y):\n",
      "    return x**2+(y-4)**2"
     ],
     "language": "python",
     "metadata": {},
     "outputs": [],
     "prompt_number": 59
    },
    {
     "cell_type": "code",
     "collapsed": false,
     "input": [
      "#something from swig will give you a function with no\n",
      "#signature information\n",
      "try:\n",
      "    describe(nosig_f)#it raise error\n",
      "except:\n",
      "    print 'OH NOOOOOOOO!!!!!'"
     ],
     "language": "python",
     "metadata": {},
     "outputs": [
      {
       "output_type": "stream",
       "stream": "stdout",
       "text": [
        "OH NOOOOOOOO!!!!!\n"
       ]
      }
     ],
     "prompt_number": 60
    },
    {
     "cell_type": "code",
     "collapsed": false,
     "input": [
      "#Use forced_parameters\n",
      "m = Minuit(nosig_f, forced_parameters=('x','y'))"
     ],
     "language": "python",
     "metadata": {},
     "outputs": [
      {
       "output_type": "stream",
       "stream": "stderr",
       "text": [
        "-c:2: RTMinuitInitialParamWarning: Parameter x does not have initial value. Assume 0.\n",
        "-c:2: RTMinuitInitialParamWarning: Parameter x is floating but does not have initial step size. Assume 1.\n",
        "-c:2: RTMinuitInitialParamWarning: Parameter y does not have initial value. Assume 0.\n",
        "-c:2: RTMinuitInitialParamWarning: Parameter y is floating but does not have initial step size. Assume 1.\n"
       ]
      }
     ],
     "prompt_number": 61
    },
    {
     "cell_type": "code",
     "collapsed": false,
     "input": [
      "m.migrad()\n",
      "print m.values"
     ],
     "language": "python",
     "metadata": {},
     "outputs": [
      {
       "html": [
        "<hr>"
       ],
       "output_type": "display_data"
      },
      {
       "html": [
        "\n",
        "        <table>\n",
        "            <tr>\n",
        "                <td>FCN = 9.31236296332e-23</td>\n",
        "                <td>NFCN = 24</td>\n",
        "                <td>NCALLS = 24</td>\n",
        "            </tr>\n",
        "            <tr>\n",
        "                <td>EDM = 9.31236296802e-23</td>\n",
        "                <td>GOAL EDM = 1e-05</td>\n",
        "                <td>UP = 1.0</td>\n",
        "            </tr>\n",
        "        </table>\n",
        "        \n",
        "        <table>\n",
        "            <tr>\n",
        "                <td align=\"center\">Valid</td>\n",
        "                <td align=\"center\">Valid Param</td>\n",
        "                <td align=\"center\">Accurate Covar</td>\n",
        "                <td align=\"center\">PosDef</td>\n",
        "                <td align=\"center\">Made PosDef</td>\n",
        "            </tr>\n",
        "            <tr>\n",
        "                <td align=\"center\" style=\"background-color:#92CCA6\">True</td>\n",
        "                <td align=\"center\" style=\"background-color:#92CCA6\">True</td>\n",
        "                <td align=\"center\" style=\"background-color:#92CCA6\">True</td>\n",
        "                <td align=\"center\" style=\"background-color:#92CCA6\">True</td>\n",
        "                <td align=\"center\" style=\"background-color:#92CCA6\">False</td>\n",
        "            </tr>\n",
        "            <tr>\n",
        "                <td align=\"center\">Hesse Fail</td>\n",
        "                <td align=\"center\">HasCov</td>\n",
        "                <td align=\"center\">Above EDM</td>\n",
        "                <td align=\"center\"></td>\n",
        "                <td align=\"center\">Reach calllim</td>\n",
        "            </tr>\n",
        "            <tr>\n",
        "                <td align=\"center\" style=\"background-color:#92CCA6\">False</td>\n",
        "                <td align=\"center\" style=\"background-color:#92CCA6\">True</td>\n",
        "                <td align=\"center\" style=\"background-color:#92CCA6\">False</td>\n",
        "                <td align=\"center\"></td>\n",
        "                <td align=\"center\" style=\"background-color:#92CCA6\">False</td>\n",
        "            </tr>\n",
        "        </table>\n",
        "        "
       ],
       "output_type": "display_data"
      },
      {
       "html": [
        "\n",
        "        <table>\n",
        "            <tr>\n",
        "                <td></td>\n",
        "                <td>Name</td>\n",
        "                <td>Value</td>\n",
        "                <td>Parab Error</td>\n",
        "                <td>Minos Error-</td>\n",
        "                <td>Minos Error+</td>\n",
        "                <td>Limit-</td>\n",
        "                <td>Limit+</td>\n",
        "                <td></td>\n",
        "            </tr>\n",
        "        \n",
        "            <tr>\n",
        "                <td>1</td>\n",
        "                <td>x</td>\n",
        "                <td>0.000000e+00</td>\n",
        "                <td>1.000000e+00</td>\n",
        "                <td>0.000000e+00</td>\n",
        "                <td>0.000000e+00</td>\n",
        "                <td></td>\n",
        "                <td></td>\n",
        "                <td></td>\n",
        "            </tr>\n",
        "            \n",
        "            <tr>\n",
        "                <td>2</td>\n",
        "                <td>y</td>\n",
        "                <td>4.000000e+00</td>\n",
        "                <td>1.000000e+00</td>\n",
        "                <td>0.000000e+00</td>\n",
        "                <td>0.000000e+00</td>\n",
        "                <td></td>\n",
        "                <td></td>\n",
        "                <td></td>\n",
        "            </tr>\n",
        "            \n",
        "            </table>\n",
        "        "
       ],
       "output_type": "display_data"
      },
      {
       "html": [
        "<hr>"
       ],
       "output_type": "display_data"
      },
      {
       "output_type": "stream",
       "stream": "stdout",
       "text": [
        "{'y': 4.00000000000965, 'x': 0.0}\n"
       ]
      }
     ],
     "prompt_number": 62
    },
    {
     "cell_type": "heading",
     "level": 1,
     "metadata": {},
     "source": [
      "Console Environment"
     ]
    },
    {
     "cell_type": "code",
     "collapsed": false,
     "input": [
      "#this is just showing off console frontend (you can force it)\n",
      "from RTMinuit.ConsoleFrontend import ConsoleFrontend\n",
      "m = Minuit(f, frontend=ConsoleFrontend())"
     ],
     "language": "python",
     "metadata": {},
     "outputs": [
      {
       "output_type": "stream",
       "stream": "stderr",
       "text": [
        "-c:3: RTMinuitInitialParamWarning: Parameter x does not have initial value. Assume 0.\n",
        "-c:3: RTMinuitInitialParamWarning: Parameter x is floating but does not have initial step size. Assume 1.\n",
        "-c:3: RTMinuitInitialParamWarning: Parameter y does not have initial value. Assume 0.\n",
        "-c:3: RTMinuitInitialParamWarning: Parameter y is floating but does not have initial step size. Assume 1.\n",
        "-c:3: RTMinuitInitialParamWarning: Parameter z does not have initial value. Assume 0.\n",
        "-c:3: RTMinuitInitialParamWarning: Parameter z is floating but does not have initial step size. Assume 1.\n"
       ]
      }
     ],
     "prompt_number": 63
    },
    {
     "cell_type": "code",
     "collapsed": false,
     "input": [
      "m.migrad();"
     ],
     "language": "python",
     "metadata": {},
     "outputs": [
      {
       "output_type": "stream",
       "stream": "stdout",
       "text": [
        "**************************************************\n",
        "*                     MIGRAD                     *\n",
        "**************************************************\n",
        "\n",
        "**********************************************************************\n",
        "---------------------------------------------------------------------------------------\n",
        "fval = -0.9999999986726502 | nfcn = 222 | ncalls = 222\n",
        "edm = 1.3272616840107013e-09 (Goal: 1e-05) | up = 1.0\n",
        "---------------------------------------------------------------------------------------\n",
        "|          Valid |    Valid Param | Accurate Covar |         Posdef |    Made Posdef |\n",
        "---------------------------------------------------------------------------------------\n",
        "|           True |           True |           True |           True |          False |\n",
        "---------------------------------------------------------------------------------------\n",
        "|     Hesse Fail |        Has Cov |      Above EDM |                |  Reach calllim |\n",
        "---------------------------------------------------------------------------------------\n",
        "|          False |           True |          False |             '' |          False |\n",
        "---------------------------------------------------------------------------------------\n",
        "\n",
        "----------------------------------------------------------------------------------------------\n",
        "|      | Name  |  Value   | Para Err |   Err-   |   Err+   |  Limit-  |  Limit+  |          |\n",
        "----------------------------------------------------------------------------------------------\n",
        "|    0 |     x =  1       |  0.5     |          |          |          |          |          |\n",
        "|    1 |     y =  2       |  1       |          |          |          |          |          |\n",
        "|    2 |     z =  3       |  1       |          |          |          |          |          |\n",
        "----------------------------------------------------------------------------------------------\n",
        "\n",
        "**********************************************************************\n"
       ]
      }
     ],
     "prompt_number": 64
    },
    {
     "cell_type": "code",
     "collapsed": false,
     "input": [],
     "language": "python",
     "metadata": {},
     "outputs": [],
     "prompt_number": 64
    }
   ],
   "metadata": {}
  }
 ]
}