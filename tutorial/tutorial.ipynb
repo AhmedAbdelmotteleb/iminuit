{
 "metadata": {
  "name": "tutorial"
 },
 "nbformat": 3,
 "nbformat_minor": 0,
 "worksheets": [
  {
   "cells": [
    {
     "cell_type": "code",
     "collapsed": false,
     "input": [
      "from RTMinuit import *"
     ],
     "language": "python",
     "metadata": {},
     "outputs": [],
     "prompt_number": 4
    },
    {
     "cell_type": "code",
     "collapsed": false,
     "input": [
      "#There are three ways to define a function for minuit\n",
      "#first like normal function\n",
      "def f(xabc,y,z):\n",
      "    return (xabc-1.)**2 + (y-2.)**2 + (z-3.)**2 -1.\n",
      "m = Minuit(f)#if you don't like verbosity of minuit pass printlevel=-1\n",
      "#You may want to do these two. \n",
      "#m.set_up(0.5)\n",
      "#m.set_strategy(2)\n",
      "m.migrad()#look at your terminal for usual minuit printout\n",
      "print m.matrix_accurate(), m.migrad_ok() #some useful function for checking result\n",
      "#m.hesse()\n",
      "print m.args\n",
      "print m.values\n",
      "print m.errors\n",
      "display( m.html_results())\n",
      "display( m.html_error_matrix())\n",
      "x = m.html_error_matrix()\n",
      "print m.list_of_fixed_param()\n",
      "m.minos_errors()\n",
      "m.minos()\n",
      "m.minos_errors()"
     ],
     "language": "python",
     "metadata": {},
     "outputs": [
      {
       "output_type": "stream",
       "stream": "stdout",
       "text": [
        "True True\n",
        "(1.0000000000367069, 1.999999999368911, 3.000000000110121)\n",
        "{'y': 1.999999999368911, 'z': 3.000000000110121, 'xabc': 1.0000000000367069}\n",
        "{'y': 1.000000000075053, 'z': 1.0000000000184246, 'xabc': 1.0000000000184068}\n"
       ]
      },
      {
       "html": [
        "<table><tr>\n",
        "            <td></td>\n",
        "            <td>Parameter</td>\n",
        "            <td>Value</td>\n",
        "            <td>Parab Error</td>\n",
        "            <td>Minos Error-</td>\n",
        "            <td>Minos Error+</td>\n",
        "            </tr>\n",
        "<tr>\n",
        "                    <td align=\"right\">1</td>\n",
        "                    <td align=\"left\">xabc</td>\n",
        "                    <td align=\"right\">1.000000e+00</td>\n",
        "                    <td align=\"left\"> &plusmn;1.000000e+00</td>\n",
        "                    <td align=\"left\">0.000000e+00</td>\n",
        "                    <td align=\"left\">+0.000000e+00</td>\n",
        "                    </tr>\n",
        "<tr>\n",
        "                    <td align=\"right\">2</td>\n",
        "                    <td align=\"left\">y</td>\n",
        "                    <td align=\"right\">2.000000e+00</td>\n",
        "                    <td align=\"left\"> &plusmn;1.000000e+00</td>\n",
        "                    <td align=\"left\">0.000000e+00</td>\n",
        "                    <td align=\"left\">+0.000000e+00</td>\n",
        "                    </tr>\n",
        "<tr>\n",
        "                    <td align=\"right\">3</td>\n",
        "                    <td align=\"left\">z</td>\n",
        "                    <td align=\"right\">3.000000e+00</td>\n",
        "                    <td align=\"left\"> &plusmn;1.000000e+00</td>\n",
        "                    <td align=\"left\">0.000000e+00</td>\n",
        "                    <td align=\"left\">+0.000000e+00</td>\n",
        "                    </tr>\n",
        "</table>"
       ],
       "output_type": "display_data",
       "text": [
        "<RTMinuit.minuit_html.MinuitHTMLResult instance at 0x105c9b320>"
       ]
      },
      {
       "html": [
        "<table>\n",
        "<tr><td></td>\n",
        "<td style=\"text-align:left\"><span style=\"-webkit-writing-mode:vertical-rl;-moz-writing-mode: vertical-rl;writing-mode: vertical-rl;\">xabc</span></td>\n",
        "<td style=\"text-align:left\"><span style=\"-webkit-writing-mode:vertical-rl;-moz-writing-mode: vertical-rl;writing-mode: vertical-rl;\">y</span></td>\n",
        "<td style=\"text-align:left\"><span style=\"-webkit-writing-mode:vertical-rl;-moz-writing-mode: vertical-rl;writing-mode: vertical-rl;\">z</span></td>\n",
        "</tr>\n",
        "<tr>\n",
        "<td>xabc</td><td style=\"background-color:rgb(255,117,117)\">1.00</td>\n",
        "<td style=\"background-color:rgb(163,254,186)\">0.00</td>\n",
        "<td style=\"background-color:rgb(163,254,186)\">-0.00</td>\n",
        "</tr>\n",
        "<tr>\n",
        "<td>y</td><td style=\"background-color:rgb(163,254,186)\">0.00</td>\n",
        "<td style=\"background-color:rgb(255,117,117)\">1.00</td>\n",
        "<td style=\"background-color:rgb(163,254,186)\">-0.00</td>\n",
        "</tr>\n",
        "<tr>\n",
        "<td>z</td><td style=\"background-color:rgb(163,254,186)\">-0.00</td>\n",
        "<td style=\"background-color:rgb(163,254,186)\">-0.00</td>\n",
        "<td style=\"background-color:rgb(255,117,117)\">1.00</td>\n",
        "</tr>\n",
        "</table>\n"
       ],
       "output_type": "display_data",
       "text": [
        "<RTMinuit.minuit_html.MinuitCorrelationMatrixHTML instance at 0x105c9b638>"
       ]
      },
      {
       "output_type": "stream",
       "stream": "stdout",
       "text": [
        "[]\n"
       ]
      },
      {
       "output_type": "pyout",
       "prompt_number": 5,
       "text": [
        "{'xabc': {'eminus': -1.0000000000367069, 'gcc': 0.0, 'eplus': 0.9999999999632931, 'eparab': 1.0000000000184068},\n",
        " 'y': {'eminus': -0.999999999368911, 'gcc': 0.0, 'eplus': 1.000000000631089, 'eparab': 1.000000000075053},\n",
        " 'z': {'eminus': -1.0000000001101208, 'gcc': 0.0, 'eplus': 0.9999999998898792, 'eparab': 1.0000000000184246}}"
       ]
      }
     ],
     "prompt_number": 5
    },
    {
     "cell_type": "code",
     "collapsed": false,
     "input": [
      "#second way is to pass a callable object\n",
      "#this is useful if your function needs to be computed on data\n",
      "class F:\n",
      "    def __init__(self,data):\n",
      "        self.data = data\n",
      "    def __call__(self,x,y,z):\n",
      "        return (x-self.data[0])**2 + (y-self.data[1])**2 + (z-self.data[2])**2 -1.\n",
      "f = F([1,2,3])\n",
      "m = Minuit(f)\n",
      "m.migrad()\n",
      "print m.values,m.errors"
     ],
     "language": "python",
     "metadata": {},
     "outputs": [
      {
       "output_type": "stream",
       "stream": "stdout",
       "text": [
        "{'y': 1.999999999368911, 'x': 1.0000000000367069, 'z': 3.000000000110121} {'y': 1.000000000075053, 'x': 1.0000000000184068, 'z': 1.0000000000184246}\n"
       ]
      }
     ],
     "prompt_number": 6
    },
    {
     "cell_type": "code",
     "collapsed": false,
     "input": [
      "#third way is a more advanced one if you need to construct function that take variable number of argument\n",
      "#this is the way dist_fit makes magic generic chi^2 ML function\n",
      "class Struct:\n",
      "    def __init__(self, **kwds):\n",
      "        self.__dict__.update(kwds)\n",
      "class CustomFunction:\n",
      "    def __init__(self, order):\n",
      "        self.order=order\n",
      "        varnames = ['c%d'%i for i in range(order)]\n",
      "        #now Poly has signature of f(c0,c1,.....,c<order-1>)\n",
      "        self.func_code = Struct(co_argcount=order,co_varnames=varnames)\n",
      "        self.func_defaults = None#optional but makes vectorize happy\n",
      "    def __call__(self,*arg):\n",
      "        s = 0\n",
      "        for i in range(self.order):\n",
      "            s+=(arg[i]-i)**2\n",
      "        return s\n",
      "f=CustomFunction(10)\n",
      "m = Minuit(f)\n",
      "m.migrad()\n",
      "print m.values,m.errors\n",
      "print m.args"
     ],
     "language": "python",
     "metadata": {},
     "outputs": [
      {
       "output_type": "stream",
       "stream": "stdout",
       "text": [
        "{'c9': 9.000000002094268, 'c8': 8.000000001861764, 'c3': 3.000000000697516, 'c2': 2.0000000004667315, 'c1': 1.0000000002325051, 'c0': 0.0, 'c7': 7.000000001627537, 'c6': 6.000000001396753, 'c5': 5.000000001164247, 'c4': 4.0000000009300205} {'c9': 0.9999999999998448, 'c8': 0.9999999999998209, 'c3': 1.0000000000002789, 'c2': 1.0000000000001361, 'c1': 0.9999999999999966, 'c0': 1.0, 'c7': 0.9999999999997995, 'c6': 0.9999999999997807, 'c5': 0.9999999999997649, 'c4': 1.0000000000000204}\n",
        "(0.0, 1.0000000002325051, 2.0000000004667315, 3.000000000697516, 4.0000000009300205, 5.000000001164247, 6.000000001396753, 7.000000001627537, 8.000000001861764, 9.000000002094268)\n"
       ]
      },
      {
       "output_type": "stream",
       "stream": "stderr",
       "text": [
        "/Library/Frameworks/Python.framework/Versions/2.7/lib/python2.7/site-packages/RTMinuit/RTMinuit.py:62: UserWarning: Parameter c0 does not have initial value assume 0.\n",
        "  warn('Parameter %s does not have initial value assume 0.' % (vn))\n",
        "/Library/Frameworks/Python.framework/Versions/2.7/lib/python2.7/site-packages/RTMinuit/RTMinuit.py:62: UserWarning: Parameter c1 does not have initial value assume 0.\n",
        "  warn('Parameter %s does not have initial value assume 0.' % (vn))\n",
        "/Library/Frameworks/Python.framework/Versions/2.7/lib/python2.7/site-packages/RTMinuit/RTMinuit.py:62: UserWarning: Parameter c2 does not have initial value assume 0.\n",
        "  warn('Parameter %s does not have initial value assume 0.' % (vn))\n",
        "/Library/Frameworks/Python.framework/Versions/2.7/lib/python2.7/site-packages/RTMinuit/RTMinuit.py:62: UserWarning: Parameter c3 does not have initial value assume 0.\n",
        "  warn('Parameter %s does not have initial value assume 0.' % (vn))\n",
        "/Library/Frameworks/Python.framework/Versions/2.7/lib/python2.7/site-packages/RTMinuit/RTMinuit.py:62: UserWarning: Parameter c4 does not have initial value assume 0.\n",
        "  warn('Parameter %s does not have initial value assume 0.' % (vn))\n",
        "/Library/Frameworks/Python.framework/Versions/2.7/lib/python2.7/site-packages/RTMinuit/RTMinuit.py:62: UserWarning: Parameter c5 does not have initial value assume 0.\n",
        "  warn('Parameter %s does not have initial value assume 0.' % (vn))\n",
        "/Library/Frameworks/Python.framework/Versions/2.7/lib/python2.7/site-packages/RTMinuit/RTMinuit.py:62: UserWarning: Parameter c6 does not have initial value assume 0.\n",
        "  warn('Parameter %s does not have initial value assume 0.' % (vn))\n",
        "/Library/Frameworks/Python.framework/Versions/2.7/lib/python2.7/site-packages/RTMinuit/RTMinuit.py:62: UserWarning: Parameter c7 does not have initial value assume 0.\n",
        "  warn('Parameter %s does not have initial value assume 0.' % (vn))\n",
        "/Library/Frameworks/Python.framework/Versions/2.7/lib/python2.7/site-packages/RTMinuit/RTMinuit.py:62: UserWarning: Parameter c8 does not have initial value assume 0.\n",
        "  warn('Parameter %s does not have initial value assume 0.' % (vn))\n",
        "/Library/Frameworks/Python.framework/Versions/2.7/lib/python2.7/site-packages/RTMinuit/RTMinuit.py:62: UserWarning: Parameter c9 does not have initial value assume 0.\n",
        "  warn('Parameter %s does not have initial value assume 0.' % (vn))\n"
       ]
      }
     ],
     "prompt_number": 7
    },
    {
     "cell_type": "code",
     "collapsed": false,
     "input": [
      "#limiting and fixing parameter example\n",
      "def f(x,y,z):\n",
      "    return (x-1.)**2 + (y-2.)**2 + (z-3.)**2 -1.\n",
      "m = Minuit(f, x=5., fix_z=True,fix_y=True)#make start value\n",
      "m.migrad()\n",
      "print m.args\n",
      "print m.list_of_fixed_param()\n",
      "m.list_of_vary_param()"
     ],
     "language": "python",
     "metadata": {},
     "outputs": [
      {
       "output_type": "stream",
       "stream": "stdout",
       "text": [
        "(1.000000000176509, 0.0, 0.0)\n",
        "['y', 'z']\n"
       ]
      },
      {
       "output_type": "pyout",
       "prompt_number": 8,
       "text": [
        "['x']"
       ]
      }
     ],
     "prompt_number": 8
    },
    {
     "cell_type": "code",
     "collapsed": false,
     "input": [
      "m = Minuit(f, limit_y=(-10,10))#bound y to some range\n",
      "m.migrad()\n",
      "print m.args"
     ],
     "language": "python",
     "metadata": {},
     "outputs": [
      {
       "output_type": "stream",
       "stream": "stdout",
       "text": [
        "(1.000008709929726, 1.999514022373802, 3.000026129789178)\n"
       ]
      }
     ],
     "prompt_number": 9
    },
    {
     "cell_type": "code",
     "collapsed": false,
     "input": [
      "m = Minuit(f, error_y=1.)#initial step for y\n",
      "m.migrad()\n",
      "m.minos('y')\n",
      "print m.args"
     ],
     "language": "python",
     "metadata": {},
     "outputs": [
      {
       "output_type": "stream",
       "stream": "stdout",
       "text": [
        "(1.0000000000367069, 2.0000000000047877, 3.000000000110121)\n"
       ]
      }
     ],
     "prompt_number": 10
    },
    {
     "cell_type": "code",
     "collapsed": false,
     "input": [
      "#getting minos error\n",
      "mne = m.minos_errors()\n",
      "display(m.html_results())"
     ],
     "language": "python",
     "metadata": {},
     "outputs": [
      {
       "html": [
        "<table><tr>\n",
        "            <td></td>\n",
        "            <td>Parameter</td>\n",
        "            <td>Value</td>\n",
        "            <td>Parab Error</td>\n",
        "            <td>Minos Error-</td>\n",
        "            <td>Minos Error+</td>\n",
        "            </tr>\n",
        "<tr>\n",
        "                    <td align=\"right\">1</td>\n",
        "                    <td align=\"left\">x</td>\n",
        "                    <td align=\"right\">1.000000e+00</td>\n",
        "                    <td align=\"left\"> &plusmn;1.000000e+00</td>\n",
        "                    <td align=\"left\">0.000000e+00</td>\n",
        "                    <td align=\"left\">+0.000000e+00</td>\n",
        "                    </tr>\n",
        "<tr>\n",
        "                    <td align=\"right\">2</td>\n",
        "                    <td align=\"left\">y</td>\n",
        "                    <td align=\"right\">2.000000e+00</td>\n",
        "                    <td align=\"left\"> &plusmn;1.000000e+00</td>\n",
        "                    <td align=\"left\">-1.000000e+00</td>\n",
        "                    <td align=\"left\">+1.000000e+00</td>\n",
        "                    </tr>\n",
        "<tr>\n",
        "                    <td align=\"right\">3</td>\n",
        "                    <td align=\"left\">z</td>\n",
        "                    <td align=\"right\">3.000000e+00</td>\n",
        "                    <td align=\"left\"> &plusmn;1.000000e+00</td>\n",
        "                    <td align=\"left\">0.000000e+00</td>\n",
        "                    <td align=\"left\">+0.000000e+00</td>\n",
        "                    </tr>\n",
        "</table>"
       ],
       "output_type": "display_data",
       "text": [
        "<RTMinuit.minuit_html.MinuitHTMLResult instance at 0x105c9b878>"
       ]
      }
     ],
     "prompt_number": 11
    },
    {
     "cell_type": "code",
     "collapsed": true,
     "input": [
      "#a neat trick if you want to plot it\n",
      "#example of class that take generic function and compute chi^2\n",
      "#see also https://github.com/piti118/dist_fit\n",
      "#for a collection of this kind of functions to do unbinned/binned likelihood and chi^2 plus some useful plotting function\n",
      "class Chi2:\n",
      "    #this assume that f is of the form y = f(x,p1,p2,p3)\n",
      "    def __init__(self,f,x,y,erry):\n",
      "        assert(len(x)==len(y))\n",
      "        self.x = np.array(x)\n",
      "        self.y = np.array(y)\n",
      "        self.erry = np.array(erry)\n",
      "        self.f = f\n",
      "        self.vf = np.vectorize(f)\n",
      "        #making signature of chi2(p1,p2,p3)\n",
      "        varnames = better_arg_spec(f)\n",
      "        varnames = varnames[1:] #dock off x\n",
      "        argcount = len(varnames)\n",
      "        self.func_code = Struct(co_argcount=argcount,co_varnames=varnames)\n",
      "        self.func_defaults = None #keep vectorize happy\n",
      "    \n",
      "    def expy(self,x,*arg):\n",
      "        return self.vf(x,*arg)\n",
      "    \n",
      "    def __call__(self,*arg):\n",
      "        expy = self.expy(self.x,*arg)\n",
      "        x2 = (self.y-expy)**2/self.erry\n",
      "        ndof = len(self.x)-self.func_code.co_argcount \n",
      "        return np.sum(x2)/ndof"
     ],
     "language": "python",
     "metadata": {},
     "outputs": [],
     "prompt_number": 12
    },
    {
     "cell_type": "code",
     "collapsed": true,
     "input": [
      "#lets make some polynomial\n",
      "def f(x,a,b,c):\n",
      "    return a*x**2+b*x+c\n",
      "#now lets make some data\n",
      "ta,tb,tc = 2.,-2.,100.\n",
      "numpoints = 30\n",
      "x = np.linspace(1,10,numpoints)\n",
      "vf = vectorize(f)\n",
      "y = f(x,ta,tb,tc)\n",
      "noise = randn(numpoints) #gaussian with 0 mean width of 1\n",
      "y = y+noise\n",
      "erry = np.array(numpoints)\n",
      "erry.fill(1.)\n",
      "errorbar(x,y,erry,fmt='.')"
     ],
     "language": "python",
     "metadata": {},
     "outputs": [
      {
       "output_type": "pyout",
       "prompt_number": 13,
       "text": [
        "<Container object of 3 artists>"
       ]
      },
      {
       "output_type": "display_data",
       "png": "[encoded data removed]",
       "text": [
        "<matplotlib.figure.Figure at 0x103df5d90>"
       ]
      }
     ],
     "prompt_number": 13
    },
    {
     "cell_type": "code",
     "collapsed": true,
     "input": [
      "x2 = Chi2(f,x,y,erry)\n",
      "m = Minuit(x2)\n",
      "m.migrad()\n",
      "display(m.html_results())\n",
      "display(m.html_error_matrix())\n",
      "fitted_y = vf(x,*m.args)\n",
      "\n",
      "errorbar(x,y,erry,fmt='.')\n",
      "plot(x,fitted_y,'-')"
     ],
     "language": "python",
     "metadata": {},
     "outputs": [
      {
       "output_type": "stream",
       "stream": "stderr",
       "text": [
        "/Library/Frameworks/Python.framework/Versions/2.7/lib/python2.7/site-packages/RTMinuit/RTMinuit.py:62: UserWarning: Parameter a does not have initial value assume 0.\n",
        "  warn('Parameter %s does not have initial value assume 0.' % (vn))\n",
        "/Library/Frameworks/Python.framework/Versions/2.7/lib/python2.7/site-packages/RTMinuit/RTMinuit.py:62: UserWarning: Parameter b does not have initial value assume 0.\n",
        "  warn('Parameter %s does not have initial value assume 0.' % (vn))\n",
        "/Library/Frameworks/Python.framework/Versions/2.7/lib/python2.7/site-packages/RTMinuit/RTMinuit.py:62: UserWarning: Parameter c does not have initial value assume 0.\n",
        "  warn('Parameter %s does not have initial value assume 0.' % (vn))\n"
       ]
      },
      {
       "html": [
        "<table><tr>\n",
        "            <td></td>\n",
        "            <td>Parameter</td>\n",
        "            <td>Value</td>\n",
        "            <td>Parab Error</td>\n",
        "            <td>Minos Error-</td>\n",
        "            <td>Minos Error+</td>\n",
        "            </tr>\n",
        "<tr>\n",
        "                    <td align=\"right\">1</td>\n",
        "                    <td align=\"left\">a</td>\n",
        "                    <td align=\"right\">1.988752e+00</td>\n",
        "                    <td align=\"left\"> &plusmn;1.472429e-01</td>\n",
        "                    <td align=\"left\">0.000000e+00</td>\n",
        "                    <td align=\"left\">+0.000000e+00</td>\n",
        "                    </tr>\n",
        "<tr>\n",
        "                    <td align=\"right\">2</td>\n",
        "                    <td align=\"left\">b</td>\n",
        "                    <td align=\"right\">-1.925816e+00</td>\n",
        "                    <td align=\"left\"> &plusmn;1.657730e+00</td>\n",
        "                    <td align=\"left\">0.000000e+00</td>\n",
        "                    <td align=\"left\">+0.000000e+00</td>\n",
        "                    </tr>\n",
        "<tr>\n",
        "                    <td align=\"right\">3</td>\n",
        "                    <td align=\"left\">c</td>\n",
        "                    <td align=\"right\">1.001687e+02</td>\n",
        "                    <td align=\"left\"> &plusmn;4.022003e+00</td>\n",
        "                    <td align=\"left\">0.000000e+00</td>\n",
        "                    <td align=\"left\">+0.000000e+00</td>\n",
        "                    </tr>\n",
        "</table>"
       ],
       "output_type": "display_data",
       "text": [
        "<RTMinuit.minuit_html.MinuitHTMLResult instance at 0x105ca0050>"
       ]
      },
      {
       "html": [
        "<table>\n",
        "<tr><td></td>\n",
        "<td style=\"text-align:left\"><span style=\"-webkit-writing-mode:vertical-rl;-moz-writing-mode: vertical-rl;writing-mode: vertical-rl;\">a</span></td>\n",
        "<td style=\"text-align:left\"><span style=\"-webkit-writing-mode:vertical-rl;-moz-writing-mode: vertical-rl;writing-mode: vertical-rl;\">b</span></td>\n",
        "<td style=\"text-align:left\"><span style=\"-webkit-writing-mode:vertical-rl;-moz-writing-mode: vertical-rl;writing-mode: vertical-rl;\">c</span></td>\n",
        "</tr>\n",
        "<tr>\n",
        "<td>a</td><td style=\"background-color:rgb(255,117,117)\">1.00</td>\n",
        "<td style=\"background-color:rgb(253,120,119)\">-0.98</td>\n",
        "<td style=\"background-color:rgb(241,138,128)\">0.84</td>\n",
        "</tr>\n",
        "<tr>\n",
        "<td>b</td><td style=\"background-color:rgb(253,120,119)\">-0.98</td>\n",
        "<td style=\"background-color:rgb(255,117,117)\">1.00</td>\n",
        "<td style=\"background-color:rgb(248,127,122)\">-0.93</td>\n",
        "</tr>\n",
        "<tr>\n",
        "<td>c</td><td style=\"background-color:rgb(241,138,128)\">0.84</td>\n",
        "<td style=\"background-color:rgb(248,127,122)\">-0.93</td>\n",
        "<td style=\"background-color:rgb(255,117,117)\">1.00</td>\n",
        "</tr>\n",
        "</table>\n"
       ],
       "output_type": "display_data",
       "text": [
        "<RTMinuit.minuit_html.MinuitCorrelationMatrixHTML instance at 0x105ca0560>"
       ]
      },
      {
       "output_type": "pyout",
       "prompt_number": 14,
       "text": [
        "[<matplotlib.lines.Line2D at 0x105c919d0>]"
       ]
      },
      {
       "output_type": "display_data",
       "png": "[encoded data removed]",
       "text": [
        "<matplotlib.figure.Figure at 0x105c91990>"
       ]
      }
     ],
     "prompt_number": 14
    },
    {
     "cell_type": "code",
     "collapsed": true,
     "input": [
      "#some of you may want to use cython\n",
      "# for speeding up\n",
      "#here is how\n",
      "%load_ext cythonmagic"
     ],
     "language": "python",
     "metadata": {},
     "outputs": [],
     "prompt_number": 36
    },
    {
     "cell_type": "code",
     "collapsed": true,
     "input": [
      "%%cython\n",
      "cimport cython\n",
      "@cython.binding(True) #you need this for cython to export function signature\n",
      "def f(double x, double y, double z):\n",
      "    return (x-2)**2 + (y-3)**2 + (z-4)**2"
     ],
     "language": "python",
     "metadata": {},
     "outputs": [],
     "prompt_number": 37
    },
    {
     "cell_type": "code",
     "collapsed": true,
     "input": [
      "def python_f(x, y, z):\n",
      "    return (x-2)**2 + (y-3)**2 + (z-4)**2"
     ],
     "language": "python",
     "metadata": {},
     "outputs": [],
     "prompt_number": 38
    },
    {
     "cell_type": "code",
     "collapsed": false,
     "input": [
      "%%timeit\n",
      "m = Minuit(f)\n",
      "m.migrad()"
     ],
     "language": "python",
     "metadata": {},
     "outputs": [
      {
       "output_type": "stream",
       "stream": "stdout",
       "text": [
        "10 loops, best of 3: 15.2 ms per loop\n"
       ]
      }
     ],
     "prompt_number": 39
    },
    {
     "cell_type": "code",
     "collapsed": false,
     "input": [
      "%%timeit\n",
      "m = Minuit(python_f)\n",
      "m.migrad()"
     ],
     "language": "python",
     "metadata": {},
     "outputs": [
      {
       "output_type": "stream",
       "stream": "stdout",
       "text": [
        "100 loops, best of 3: 16.5 ms per loop\n"
       ]
      }
     ],
     "prompt_number": 40
    },
    {
     "cell_type": "code",
     "collapsed": false,
     "input": [],
     "language": "python",
     "metadata": {},
     "outputs": []
    }
   ],
   "metadata": {}
  }
 ]
}