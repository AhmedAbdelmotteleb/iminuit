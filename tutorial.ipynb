{
 "metadata": {
  "name": "tutorial"
 },
 "nbformat": 3,
 "worksheets": [
  {
   "cells": [
    {
     "cell_type": "code",
     "collapsed": false,
     "input": [
      "from RTMinuit import *"
     ],
     "language": "python",
     "outputs": [],
     "prompt_number": 1
    },
    {
     "cell_type": "code",
     "collapsed": false,
     "input": [
      "#There are three ways to define a function for minuit",
      "#first like normal function",
      "def f(xabc,y,z):",
      "    return (xabc-1.)**2 + (y-2.)**2 + (z-3.)**2 -1.",
      "m = Minuit(f)#if you don't like verbosity of minuit pass printlevel=-1",
      "#You may want to do these two. ",
      "#m.set_up(0.5)",
      "#m.set_strategy(2)",
      "m.migrad()#look at your terminal for usual minuit printout",
      "print m.matrix_accurate(), m.migrad_ok() #some useful function for checking result",
      "#m.hesse()",
      "print m.args",
      "print m.values",
      "print m.errors",
      "display( m.html_results())",
      "display( m.html_error_matrix())",
      "x = m.html_error_matrix()",
      "print m.list_of_fixed_param()",
      "m.html_error_matrix()._repr_html_()"
     ],
     "language": "python",
     "outputs": [
      {
       "output_type": "stream",
       "stream": "stdout",
       "text": [
        "True True",
        "(1.0000000000367069, 1.999999999368911, 3.000000000110121)",
        "{'y': 1.999999999368911, 'z': 3.000000000110121, 'xabc': 1.0000000000367069}",
        "{'y': 1.000000000075053, 'z': 1.0000000000184246, 'xabc': 1.0000000000184068}",
        ""
       ]
      },
      {
       "output_type": "stream",
       "stream": "stderr",
       "text": [
        "RTMinuit/RTMinuit.py:62: UserWarning: Parameter xabc does not have initial value assume 0.",
        "  warn('Parameter %s does not have initial value assume 0.' % (vn))",
        "RTMinuit/RTMinuit.py:62: UserWarning: Parameter y does not have initial value assume 0.",
        "  warn('Parameter %s does not have initial value assume 0.' % (vn))",
        "RTMinuit/RTMinuit.py:62: UserWarning: Parameter z does not have initial value assume 0.",
        "  warn('Parameter %s does not have initial value assume 0.' % (vn))",
        ""
       ]
      },
      {
       "html": [
        "<table><tr><td></td><td>Parameter</td><td>Value</td><td>Error</td></tr>",
        "<tr>",
        "                    <td align=\"right\">1</td>",
        "                    <td align=\"left\">xabc</td>",
        "                    <td align=\"right\">1.000000e+00</td>",
        "                    <td align=\"left\"> &plusmn;1.000000e+00</td>",
        "                    </tr>",
        "<tr>",
        "                    <td align=\"right\">2</td>",
        "                    <td align=\"left\">y</td>",
        "                    <td align=\"right\">2.000000e+00</td>",
        "                    <td align=\"left\"> &plusmn;1.000000e+00</td>",
        "                    </tr>",
        "<tr>",
        "                    <td align=\"right\">3</td>",
        "                    <td align=\"left\">z</td>",
        "                    <td align=\"right\">3.000000e+00</td>",
        "                    <td align=\"left\"> &plusmn;1.000000e+00</td>",
        "                    </tr>",
        "</table>"
       ],
       "output_type": "display_data",
       "text": [
        "<RTMinuit.minuit_html.MinuitHTMLResult instance at 0x10576d368>"
       ]
      },
      {
       "html": [
        "<table>",
        "<tr><td></td>",
        "<td style=\"text-align:center\"><div style=\"-webkit-writing-mode:vertical-rl;\">xabc</div></td>",
        "<td style=\"text-align:center\"><div style=\"-webkit-writing-mode:vertical-rl;\">y</div></td>",
        "<td style=\"text-align:center\"><div style=\"-webkit-writing-mode:vertical-rl;\">z</div></td>",
        "</tr>",
        "<tr>",
        "<td>xabc</td><td style=\"background-color:rgb(255,117,117)\">1.00</td>",
        "<td style=\"background-color:rgb(163,254,186)\">0.00</td>",
        "<td style=\"background-color:rgb(163,254,186)\">-0.00</td>",
        "</tr>",
        "<tr>",
        "<td>y</td><td style=\"background-color:rgb(163,254,186)\">0.00</td>",
        "<td style=\"background-color:rgb(255,117,117)\">1.00</td>",
        "<td style=\"background-color:rgb(163,254,186)\">-0.00</td>",
        "</tr>",
        "<tr>",
        "<td>z</td><td style=\"background-color:rgb(163,254,186)\">-0.00</td>",
        "<td style=\"background-color:rgb(163,254,186)\">-0.00</td>",
        "<td style=\"background-color:rgb(255,117,117)\">1.00</td>",
        "</tr>",
        "</table>",
        ""
       ],
       "output_type": "display_data",
       "text": [
        "<RTMinuit.minuit_html.MinuitCorrelationMatrixHTML instance at 0x105739b00>"
       ]
      },
      {
       "output_type": "stream",
       "stream": "stdout",
       "text": [
        "[]",
        ""
       ]
      },
      {
       "output_type": "pyout",
       "prompt_number": 2,
       "text": [
        "'<table>\\n<tr><td></td>\\n<td style=\"text-align:center\"><div style=\"-webkit-writing-mode:vertical-rl;\">xabc</div></td>\\n<td style=\"text-align:center\"><div style=\"-webkit-writing-mode:vertical-rl;\">y</div></td>\\n<td style=\"text-align:center\"><div style=\"-webkit-writing-mode:vertical-rl;\">z</div></td>\\n</tr>\\n<tr>\\n<td>xabc</td><td style=\"background-color:rgb(255,117,117)\">1.00</td>\\n<td style=\"background-color:rgb(163,254,186)\">0.00</td>\\n<td style=\"background-color:rgb(163,254,186)\">-0.00</td>\\n</tr>\\n<tr>\\n<td>y</td><td style=\"background-color:rgb(163,254,186)\">0.00</td>\\n<td style=\"background-color:rgb(255,117,117)\">1.00</td>\\n<td style=\"background-color:rgb(163,254,186)\">-0.00</td>\\n</tr>\\n<tr>\\n<td>z</td><td style=\"background-color:rgb(163,254,186)\">-0.00</td>\\n<td style=\"background-color:rgb(163,254,186)\">-0.00</td>\\n<td style=\"background-color:rgb(255,117,117)\">1.00</td>\\n</tr>\\n</table>\\n'"
       ]
      }
     ],
     "prompt_number": 2
    },
    {
     "cell_type": "code",
     "collapsed": false,
     "input": [
      "#second way is to pass a callable object",
      "#this is useful if your function needs to be computed on data",
      "class F:",
      "    def __init__(self,data):",
      "        self.data = data",
      "    def __call__(self,x,y,z):",
      "        return (x-self.data[0])**2 + (y-self.data[1])**2 + (z-self.data[2])**2 -1.",
      "f = F([1,2,3])",
      "m = Minuit(f)",
      "m.migrad()",
      "print m.values,m.errors"
     ],
     "language": "python",
     "outputs": [
      {
       "output_type": "stream",
       "stream": "stdout",
       "text": [
        "{'y': 1.999999999368911, 'x': 1.0000000000367069, 'z': 3.000000000110121} {'y': 1.000000000075053, 'x': 1.0000000000184068, 'z': 1.0000000000184246}",
        ""
       ]
      }
     ],
     "prompt_number": 5
    },
    {
     "cell_type": "code",
     "collapsed": false,
     "input": [
      "#third way is a more advanced one if you need to construct function that take variable number of argument",
      "#this is the way dist_fit makes magic generic chi^2 ML function",
      "class Struct:",
      "    def __init__(self, **kwds):",
      "        self.__dict__.update(kwds)",
      "class CustomFunction:",
      "    def __init__(self, order):",
      "        self.order=order",
      "        varnames = ['c%d'%i for i in range(order)]",
      "        #now Poly has signature of f(c0,c1,.....,c<order-1>)",
      "        self.func_code = Struct(co_argcount=order,co_varnames=varnames)",
      "        self.func_defaults = None#optional but makes vectorize happy",
      "    def __call__(self,*arg):",
      "        s = 0",
      "        for i in range(self.order):",
      "            s+=(arg[i]-i)**2",
      "        return s",
      "f=CustomFunction(10)",
      "m = Minuit(f)",
      "m.migrad()",
      "print m.values,m.errors",
      "print m.args"
     ],
     "language": "python",
     "outputs": [
      {
       "output_type": "stream",
       "stream": "stdout",
       "text": [
        "{'c9': 9.000000002094268, 'c8': 8.000000001861764, 'c3': 3.000000000697516, 'c2': 2.0000000004667315, 'c1': 1.0000000002325051, 'c0': 0.0, 'c7': 7.000000001627537, 'c6': 6.000000001396753, 'c5': 5.000000001164247, 'c4': 4.0000000009300205} {'c9': 0.9999999999998448, 'c8': 0.9999999999998209, 'c3': 1.0000000000002789, 'c2': 1.0000000000001361, 'c1': 0.9999999999999966, 'c0': 1.0, 'c7': 0.9999999999997995, 'c6': 0.9999999999997807, 'c5': 0.9999999999997649, 'c4': 1.0000000000000204}",
        "(0.0, 1.0000000002325051, 2.0000000004667315, 3.000000000697516, 4.0000000009300205, 5.000000001164247, 6.000000001396753, 7.000000001627537, 8.000000001861764, 9.000000002094268)",
        ""
       ]
      },
      {
       "output_type": "stream",
       "stream": "stderr",
       "text": [
        "RTMinuit/RTMinuit.py:55: UserWarning: Parameter c0 does not have initial value assume 0.",
        "  warn('Parameter %s does not have initial value assume 0.' % (vn))",
        "RTMinuit/RTMinuit.py:55: UserWarning: Parameter c1 does not have initial value assume 0.",
        "  warn('Parameter %s does not have initial value assume 0.' % (vn))",
        "RTMinuit/RTMinuit.py:55: UserWarning: Parameter c2 does not have initial value assume 0.",
        "  warn('Parameter %s does not have initial value assume 0.' % (vn))",
        "RTMinuit/RTMinuit.py:55: UserWarning: Parameter c3 does not have initial value assume 0.",
        "  warn('Parameter %s does not have initial value assume 0.' % (vn))",
        "RTMinuit/RTMinuit.py:55: UserWarning: Parameter c4 does not have initial value assume 0.",
        "  warn('Parameter %s does not have initial value assume 0.' % (vn))",
        "RTMinuit/RTMinuit.py:55: UserWarning: Parameter c5 does not have initial value assume 0.",
        "  warn('Parameter %s does not have initial value assume 0.' % (vn))",
        "RTMinuit/RTMinuit.py:55: UserWarning: Parameter c6 does not have initial value assume 0.",
        "  warn('Parameter %s does not have initial value assume 0.' % (vn))",
        "RTMinuit/RTMinuit.py:55: UserWarning: Parameter c7 does not have initial value assume 0.",
        "  warn('Parameter %s does not have initial value assume 0.' % (vn))",
        "RTMinuit/RTMinuit.py:55: UserWarning: Parameter c8 does not have initial value assume 0.",
        "  warn('Parameter %s does not have initial value assume 0.' % (vn))",
        "RTMinuit/RTMinuit.py:55: UserWarning: Parameter c9 does not have initial value assume 0.",
        "  warn('Parameter %s does not have initial value assume 0.' % (vn))",
        ""
       ]
      }
     ],
     "prompt_number": 6
    },
    {
     "cell_type": "code",
     "collapsed": false,
     "input": [
      "#limiting and fixing parameter example",
      "def f(x,y,z):",
      "    return (x-1.)**2 + (y-2.)**2 + (z-3.)**2 -1.",
      "m = Minuit(f, x=5., fix_z=True,fix_y=True)#make start value",
      "m.migrad()",
      "print m.args",
      "print m.list_of_fixed_param()",
      "m.list_of_vary_param()"
     ],
     "language": "python",
     "outputs": [
      {
       "output_type": "stream",
       "stream": "stdout",
       "text": [
        "(1.000000000176509, 0.0, 0.0)",
        "['y', 'z']",
        ""
       ]
      },
      {
       "output_type": "pyout",
       "prompt_number": 9,
       "text": [
        "['x']"
       ]
      }
     ],
     "prompt_number": 9
    },
    {
     "cell_type": "code",
     "collapsed": false,
     "input": [
      "m = Minuit(f, limit_y=(-10,10))#bound y to some range",
      "m.migrad()",
      "print m.args"
     ],
     "language": "python",
     "outputs": [
      {
       "output_type": "stream",
       "stream": "stdout",
       "text": [
        "(1.000008709929726, 1.999514022373802, 3.000026129789178)",
        ""
       ]
      }
     ],
     "prompt_number": 9
    },
    {
     "cell_type": "code",
     "collapsed": false,
     "input": [
      "m = Minuit(f, error_y=1.)#initial step for y",
      "m.migrad()",
      "m.minos('y')",
      "print m.args"
     ],
     "language": "python",
     "outputs": [
      {
       "output_type": "stream",
       "stream": "stdout",
       "text": [
        "(1.0000000000367069, 2.0000000000047877, 3.000000000110121)",
        ""
       ]
      }
     ],
     "prompt_number": 10
    },
    {
     "cell_type": "code",
     "collapsed": false,
     "input": [
      "#getting minos error",
      "mne = m.minos_errors()",
      "print mne",
      "print mne['x'].eplus"
     ],
     "language": "python",
     "outputs": [
      {
       "output_type": "stream",
       "stream": "stdout",
       "text": [
        "{'y': {'eminus': -1.0000000000047877, 'gcc': 0.0, 'eplus': 0.9999999999952123, 'eparab': 1.0000000000011804}, 'x': {'eminus': 0.0, 'gcc': 0.0, 'eplus': 0.0, 'eparab': 1.0000000000184068}, 'z': {'eminus': 0.0, 'gcc': 0.0, 'eplus': 0.0, 'eparab': 1.0000000000184246}}",
        "0.0",
        ""
       ]
      }
     ],
     "prompt_number": 8
    },
    {
     "cell_type": "code",
     "collapsed": false,
     "input": [
      "i = 10",
      "'d{i:e}d'.format(**locals())"
     ],
     "language": "python",
     "outputs": [
      {
       "output_type": "pyout",
       "prompt_number": 8,
       "text": [
        "'d1.000000e+01d'"
       ]
      }
     ],
     "prompt_number": 8
    },
    {
     "cell_type": "code",
     "collapsed": false,
     "input": [
      "a = ['a','b','c']",
      "i = 2",
      "'{a[i]:s}'.format(**locals())"
     ],
     "language": "python",
     "outputs": [
      {
       "ename": "TypeError",
       "evalue": "list indices must be integers, not str",
       "output_type": "pyerr",
       "traceback": [
        "\u001b[0;31m---------------------------------------------------------------------------\u001b[0m\n\u001b[0;31mTypeError\u001b[0m                                 Traceback (most recent call last)",
        "\u001b[0;32m/Users/piti/test/RTMinuit/<ipython-input-13-80342e39f72a>\u001b[0m in \u001b[0;36m<module>\u001b[0;34m()\u001b[0m\n\u001b[1;32m      1\u001b[0m \u001b[0ma\u001b[0m \u001b[0;34m=\u001b[0m \u001b[0;34m[\u001b[0m\u001b[0;34m'a'\u001b[0m\u001b[0;34m,\u001b[0m\u001b[0;34m'b'\u001b[0m\u001b[0;34m,\u001b[0m\u001b[0;34m'c'\u001b[0m\u001b[0;34m]\u001b[0m\u001b[0;34m\u001b[0m\u001b[0m\n\u001b[1;32m      2\u001b[0m \u001b[0mi\u001b[0m \u001b[0;34m=\u001b[0m \u001b[0;36m2\u001b[0m\u001b[0;34m\u001b[0m\u001b[0m\n\u001b[0;32m----> 3\u001b[0;31m \u001b[0;34m'{a[i]:s}'\u001b[0m\u001b[0;34m.\u001b[0m\u001b[0mformat\u001b[0m\u001b[0;34m(\u001b[0m\u001b[0;34m**\u001b[0m\u001b[0mlocals\u001b[0m\u001b[0;34m(\u001b[0m\u001b[0;34m)\u001b[0m\u001b[0;34m)\u001b[0m\u001b[0;34m\u001b[0m\u001b[0m\n\u001b[0m",
        "\u001b[0;31mTypeError\u001b[0m: list indices must be integers, not str"
       ]
      }
     ],
     "prompt_number": 13
    },
    {
     "cell_type": "code",
     "collapsed": true,
     "input": [
      ""
     ],
     "language": "python",
     "outputs": [],
     "prompt_number": 9
    },
    {
     "cell_type": "code",
     "collapsed": true,
     "input": [
      ""
     ],
     "language": "python",
     "outputs": [],
     "prompt_number": 9
    },
    {
     "cell_type": "code",
     "collapsed": true,
     "input": [
      ""
     ],
     "language": "python",
     "outputs": []
    }
   ]
  }
 ]
}