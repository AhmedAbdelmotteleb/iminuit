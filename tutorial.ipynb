{
 "metadata": {
  "name": "tutorial"
 },
 "nbformat": 3,
 "worksheets": [
  {
   "cells": [
    {
     "cell_type": "code",
     "collapsed": true,
     "input": [
      "from RTMinuit import Minuit"
     ],
     "language": "python",
     "outputs": [],
     "prompt_number": 1
    },
    {
     "cell_type": "code",
     "collapsed": false,
     "input": [
      "#There are three ways to define a function for minuit",
      "#first like normal function",
      "def f(x,y,z):",
      "    return (x-1.)**2 + (y-2.)**2 + (z-3.)**2 -1.",
      "m = Minuit(f)#if you don't like verbosity of minuit pass printlevel=-1",
      "#You may want to do these two. ",
      "#m.set_up(0.5)",
      "#m.set_strategy(2)",
      "m.migrad()#look at your terminal for usual minuit printout",
      "print m.matrix_accurate(), m.migrad_ok() #some useful function for checking result",
      "m.hesse()",
      "print m.args",
      "print m.values",
      "print m.errors"
     ],
     "language": "python",
     "outputs": [
      {
       "output_type": "stream",
       "stream": "stdout",
       "text": [
        "True True",
        "(1.0000000000367069, 1.999999999368911, 3.000000000110121)",
        "{'y': 1.999999999368911, 'x': 1.0000000000367069, 'z': 3.000000000110121}",
        "{'y': 1.000000000075053, 'x': 1.0000000000184068, 'z': 1.0000000000184246}",
        ""
       ]
      }
     ],
     "prompt_number": 2
    },
    {
     "cell_type": "code",
     "collapsed": false,
     "input": [
      "#second way is to pass a callable object",
      "#this is useful if your function needs to be computed on data",
      "class F:",
      "    def __init__(self,data):",
      "        self.data = data",
      "    def __call__(self,x,y,z):",
      "        return (x-self.data[0])**2 + (y-self.data[1])**2 + (z-self.data[2])**2 -1.",
      "f = F([1,2,3])",
      "m = Minuit(f)",
      "m.migrad()",
      "print m.values,m.errors"
     ],
     "language": "python",
     "outputs": [
      {
       "output_type": "stream",
       "stream": "stdout",
       "text": [
        "{'y': 1.999999999368911, 'x': 1.0000000000367069, 'z': 3.000000000110121} {'y': 1.000000000075053, 'x': 1.0000000000184068, 'z': 1.0000000000184246}",
        ""
       ]
      }
     ],
     "prompt_number": 3
    },
    {
     "cell_type": "code",
     "collapsed": false,
     "input": [
      "#third way is a more advanced one if you need to construct function that take variable number of argument",
      "#this is the way dist_fit makes magic generic chi^2 ML function",
      "class Struct:",
      "    def __init__(self, **kwds):",
      "        self.__dict__.update(kwds)",
      "class CustomFunction:",
      "    def __init__(self, order):",
      "        self.order=order",
      "        varnames = ['c%d'%i for i in range(order)]",
      "        #now Poly has signature of f(c0,c1,.....,c<order-1>)",
      "        self.func_code = Struct(co_argcount=order,co_varnames=varnames)",
      "        self.func_defaults = None#optional but makes vectorize happy",
      "    def __call__(self,*arg):",
      "        s = 0",
      "        for i in range(self.order):",
      "            s+=(arg[i]-i)**2",
      "        return s",
      "f=CustomFunction(10)",
      "m = Minuit(f)",
      "m.migrad()",
      "print m.values,m.errors",
      "print m.args"
     ],
     "language": "python",
     "outputs": [
      {
       "output_type": "stream",
       "stream": "stdout",
       "text": [
        "{'c9': 9.000000002094268, 'c8': 8.000000001861764, 'c3': 3.000000000697516, 'c2': 2.0000000004667315, 'c1': 1.0000000002325051, 'c0': 0.0, 'c7': 7.000000001627537, 'c6': 6.000000001396753, 'c5': 5.000000001164247, 'c4': 4.0000000009300205} {'c9': 0.9999999999998448, 'c8': 0.9999999999998209, 'c3': 1.0000000000002789, 'c2': 1.0000000000001361, 'c1': 0.9999999999999966, 'c0': 1.0, 'c7': 0.9999999999997995, 'c6': 0.9999999999997807, 'c5': 0.9999999999997649, 'c4': 1.0000000000000204}",
        "(0.0, 1.0000000002325051, 2.0000000004667315, 3.000000000697516, 4.0000000009300205, 5.000000001164247, 6.000000001396753, 7.000000001627537, 8.000000001861764, 9.000000002094268)",
        ""
       ]
      }
     ],
     "prompt_number": 4
    },
    {
     "cell_type": "code",
     "collapsed": false,
     "input": [
      "#limiting and fixing parameter example",
      "def f(x,y,z):",
      "    return (x-1.)**2 + (y-2.)**2 + (z-3.)**2 -1.",
      "m = Minuit(f, x=5., fix_x=True)#make start value",
      "m.migrad()",
      "print m.args"
     ],
     "language": "python",
     "outputs": [
      {
       "output_type": "stream",
       "stream": "stdout",
       "text": [
        "(5.0, 1.999999998884424, 2.999999999868305)",
        ""
       ]
      }
     ],
     "prompt_number": 5
    },
    {
     "cell_type": "code",
     "collapsed": false,
     "input": [
      "m = Minuit(f, limit_y=(-10,10))#bound y to some range",
      "m.migrad()",
      "print m.args"
     ],
     "language": "python",
     "outputs": [
      {
       "output_type": "stream",
       "stream": "stdout",
       "text": [
        "(1.000008709929726, 1.999514022373802, 3.000026129789178)",
        ""
       ]
      }
     ],
     "prompt_number": 6
    },
    {
     "cell_type": "code",
     "collapsed": false,
     "input": [
      "m = Minuit(f, error_y=1.)#initial step for y",
      "m.migrad()",
      "m.minos()",
      "print m.args"
     ],
     "language": "python",
     "outputs": [
      {
       "output_type": "stream",
       "stream": "stdout",
       "text": [
        "(1.0000000000367069, 2.0000000000047877, 3.000000000110121)",
        ""
       ]
      }
     ],
     "prompt_number": 7
    },
    {
     "cell_type": "code",
     "collapsed": false,
     "input": [
      "#getting minos error",
      "mne = m.minos_errors()",
      "print mne",
      "print mne['x'].eplus"
     ],
     "language": "python",
     "outputs": [
      {
       "output_type": "stream",
       "stream": "stdout",
       "text": [
        "{'y': {'eminus': -1.0000000000047877, 'gcc': 0.0, 'eplus': 0.9999999999952123, 'eparab': 1.0000000000011804}, 'x': {'eminus': -1.0000000000367069, 'gcc': 0.0, 'eplus': 0.9999999999632931, 'eparab': 1.0000000000184068}, 'z': {'eminus': -1.0000000001101208, 'gcc': 0.0, 'eplus': 0.9999999998898792, 'eparab': 1.0000000000184246}}",
        "0.999999999963",
        ""
       ]
      }
     ],
     "prompt_number": 10
    },
    {
     "cell_type": "code",
     "collapsed": true,
     "input": [
      ""
     ],
     "language": "python",
     "outputs": [],
     "prompt_number": 8
    },
    {
     "cell_type": "code",
     "collapsed": true,
     "input": [
      ""
     ],
     "language": "python",
     "outputs": [],
     "prompt_number": 7
    },
    {
     "cell_type": "code",
     "collapsed": true,
     "input": [
      ""
     ],
     "language": "python",
     "outputs": []
    }
   ]
  }
 ]
}